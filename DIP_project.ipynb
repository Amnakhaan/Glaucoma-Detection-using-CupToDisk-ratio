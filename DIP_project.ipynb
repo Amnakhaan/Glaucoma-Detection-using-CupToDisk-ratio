{
 "cells": [
  {
   "cell_type": "code",
   "execution_count": 4,
   "id": "706ff99d-a63e-442c-8a6a-644b4bd0f0f6",
   "metadata": {},
   "outputs": [
    {
     "name": "stdout",
     "output_type": "stream",
     "text": [
      "Epoch 1/10\n",
      "\u001b[1m7/7\u001b[0m \u001b[32m━━━━━━━━━━━━━━━━━━━━\u001b[0m\u001b[37m\u001b[0m \u001b[1m101s\u001b[0m 12s/step - accuracy: 0.0296 - loss: -3.8152 - val_accuracy: 1.5259e-05 - val_loss: -60.6767\n",
      "Epoch 2/10\n",
      "\u001b[1m7/7\u001b[0m \u001b[32m━━━━━━━━━━━━━━━━━━━━\u001b[0m\u001b[37m\u001b[0m \u001b[1m80s\u001b[0m 11s/step - accuracy: 5.2834e-06 - loss: -60.7643 - val_accuracy: 0.0000e+00 - val_loss: -60.6438\n",
      "Epoch 3/10\n",
      "\u001b[1m7/7\u001b[0m \u001b[32m━━━━━━━━━━━━━━━━━━━━\u001b[0m\u001b[37m\u001b[0m \u001b[1m74s\u001b[0m 10s/step - accuracy: 0.0000e+00 - loss: -60.6380 - val_accuracy: 0.0000e+00 - val_loss: -60.6438\n",
      "Epoch 4/10\n",
      "\u001b[1m7/7\u001b[0m \u001b[32m━━━━━━━━━━━━━━━━━━━━\u001b[0m\u001b[37m\u001b[0m \u001b[1m74s\u001b[0m 11s/step - accuracy: 0.0000e+00 - loss: -59.8579 - val_accuracy: 0.0000e+00 - val_loss: -60.7855\n",
      "Epoch 5/10\n",
      "\u001b[1m7/7\u001b[0m \u001b[32m━━━━━━━━━━━━━━━━━━━━\u001b[0m\u001b[37m\u001b[0m \u001b[1m76s\u001b[0m 11s/step - accuracy: 0.0000e+00 - loss: -61.0863 - val_accuracy: 0.0000e+00 - val_loss: -60.6438\n",
      "Epoch 6/10\n",
      "\u001b[1m7/7\u001b[0m \u001b[32m━━━━━━━━━━━━━━━━━━━━\u001b[0m\u001b[37m\u001b[0m \u001b[1m76s\u001b[0m 11s/step - accuracy: 0.0000e+00 - loss: -61.6336 - val_accuracy: 0.0000e+00 - val_loss: -60.6438\n",
      "Epoch 7/10\n",
      "\u001b[1m7/7\u001b[0m \u001b[32m━━━━━━━━━━━━━━━━━━━━\u001b[0m\u001b[37m\u001b[0m \u001b[1m76s\u001b[0m 11s/step - accuracy: 0.0000e+00 - loss: -61.0161 - val_accuracy: 0.0000e+00 - val_loss: -60.6438\n",
      "Epoch 8/10\n",
      "\u001b[1m7/7\u001b[0m \u001b[32m━━━━━━━━━━━━━━━━━━━━\u001b[0m\u001b[37m\u001b[0m \u001b[1m81s\u001b[0m 12s/step - accuracy: 0.0000e+00 - loss: -60.7663 - val_accuracy: 0.0000e+00 - val_loss: -60.6438\n",
      "Epoch 9/10\n",
      "\u001b[1m7/7\u001b[0m \u001b[32m━━━━━━━━━━━━━━━━━━━━\u001b[0m\u001b[37m\u001b[0m \u001b[1m74s\u001b[0m 11s/step - accuracy: 0.0000e+00 - loss: -59.3756 - val_accuracy: 0.0000e+00 - val_loss: -60.6438\n",
      "Epoch 10/10\n",
      "\u001b[1m7/7\u001b[0m \u001b[32m━━━━━━━━━━━━━━━━━━━━\u001b[0m\u001b[37m\u001b[0m \u001b[1m74s\u001b[0m 11s/step - accuracy: 0.0000e+00 - loss: -61.6659 - val_accuracy: 0.0000e+00 - val_loss: -60.6438\n",
      "\u001b[1m4/4\u001b[0m \u001b[32m━━━━━━━━━━━━━━━━━━━━\u001b[0m\u001b[37m\u001b[0m \u001b[1m19s\u001b[0m 4s/step\n",
      "Image 1: Glaucoma detected. CDR: inf\n",
      "Image 2: Glaucoma detected. CDR: inf\n",
      "Image 3: Glaucoma detected. CDR: inf\n",
      "Image 4: Glaucoma detected. CDR: inf\n",
      "Image 5: Glaucoma detected. CDR: inf\n",
      "Image 6: Glaucoma detected. CDR: inf\n",
      "Image 7: Glaucoma detected. CDR: inf\n",
      "Image 8: Glaucoma detected. CDR: inf\n",
      "Image 9: Glaucoma detected. CDR: inf\n",
      "Image 10: Glaucoma detected. CDR: inf\n",
      "Image 11: Glaucoma detected. CDR: inf\n",
      "Image 12: Glaucoma detected. CDR: inf\n",
      "Image 13: Glaucoma detected. CDR: inf\n",
      "Image 14: Glaucoma detected. CDR: inf\n",
      "Image 15: Glaucoma detected. CDR: inf\n",
      "Image 16: Glaucoma detected. CDR: inf\n",
      "Image 17: Glaucoma detected. CDR: inf\n",
      "Image 18: Glaucoma detected. CDR: inf\n",
      "Image 19: Glaucoma detected. CDR: inf\n",
      "Image 20: Glaucoma detected. CDR: inf\n",
      "Image 21: Glaucoma detected. CDR: inf\n",
      "Image 22: Glaucoma detected. CDR: inf\n",
      "Image 23: Glaucoma detected. CDR: inf\n",
      "Image 24: Glaucoma detected. CDR: inf\n",
      "Image 25: Glaucoma detected. CDR: inf\n",
      "Image 26: Glaucoma detected. CDR: inf\n",
      "Image 27: Glaucoma detected. CDR: inf\n",
      "Image 28: Glaucoma detected. CDR: inf\n",
      "Image 29: Glaucoma detected. CDR: inf\n",
      "Image 30: Glaucoma detected. CDR: inf\n",
      "Image 31: Glaucoma detected. CDR: inf\n",
      "Image 32: Glaucoma detected. CDR: inf\n",
      "Image 33: Glaucoma detected. CDR: inf\n",
      "Image 34: Glaucoma detected. CDR: inf\n",
      "Image 35: Glaucoma detected. CDR: inf\n",
      "Image 36: Glaucoma detected. CDR: inf\n",
      "Image 37: Glaucoma detected. CDR: inf\n",
      "Image 38: Glaucoma detected. CDR: inf\n",
      "Image 39: Glaucoma detected. CDR: inf\n",
      "Image 40: Glaucoma detected. CDR: inf\n",
      "Image 41: Glaucoma detected. CDR: inf\n",
      "Image 42: Glaucoma detected. CDR: inf\n",
      "Image 43: Glaucoma detected. CDR: inf\n",
      "Image 44: Glaucoma detected. CDR: inf\n",
      "Image 45: Glaucoma detected. CDR: inf\n",
      "Image 46: Glaucoma detected. CDR: inf\n",
      "Image 47: Glaucoma detected. CDR: inf\n",
      "Image 48: Glaucoma detected. CDR: inf\n",
      "Image 49: Glaucoma detected. CDR: inf\n",
      "Image 50: Glaucoma detected. CDR: inf\n",
      "Image 51: Glaucoma detected. CDR: inf\n",
      "Image 52: Glaucoma detected. CDR: inf\n",
      "Image 53: Glaucoma detected. CDR: inf\n",
      "Image 54: Glaucoma detected. CDR: inf\n",
      "Image 55: Glaucoma detected. CDR: inf\n",
      "Image 56: Glaucoma detected. CDR: inf\n",
      "Image 57: Glaucoma detected. CDR: inf\n",
      "Image 58: Glaucoma detected. CDR: inf\n",
      "Image 59: Glaucoma detected. CDR: inf\n",
      "Image 60: Glaucoma detected. CDR: inf\n",
      "Image 61: Glaucoma detected. CDR: inf\n",
      "Image 62: Glaucoma detected. CDR: inf\n",
      "Image 63: Glaucoma detected. CDR: inf\n",
      "Image 64: Glaucoma detected. CDR: inf\n",
      "Image 65: Glaucoma detected. CDR: inf\n",
      "Image 66: Glaucoma detected. CDR: inf\n",
      "Image 67: Glaucoma detected. CDR: inf\n",
      "Image 68: Glaucoma detected. CDR: inf\n",
      "Image 69: Glaucoma detected. CDR: inf\n",
      "Image 70: Glaucoma detected. CDR: inf\n",
      "Image 71: Glaucoma detected. CDR: inf\n",
      "Image 72: Glaucoma detected. CDR: inf\n",
      "Image 73: Glaucoma detected. CDR: inf\n",
      "Image 74: Glaucoma detected. CDR: inf\n",
      "Image 75: Glaucoma detected. CDR: inf\n",
      "Image 76: Glaucoma detected. CDR: inf\n",
      "Image 77: Glaucoma detected. CDR: inf\n",
      "Image 78: Glaucoma detected. CDR: inf\n",
      "Image 79: Glaucoma detected. CDR: inf\n",
      "Image 80: Glaucoma detected. CDR: inf\n",
      "Image 81: Glaucoma detected. CDR: inf\n",
      "Image 82: Glaucoma detected. CDR: inf\n",
      "Image 83: Glaucoma detected. CDR: inf\n",
      "Image 84: Glaucoma detected. CDR: inf\n",
      "Image 85: Glaucoma detected. CDR: inf\n",
      "Image 86: Glaucoma detected. CDR: inf\n",
      "Image 87: Glaucoma detected. CDR: inf\n",
      "Image 88: Glaucoma detected. CDR: inf\n",
      "Image 89: Glaucoma detected. CDR: inf\n",
      "Image 90: Glaucoma detected. CDR: inf\n",
      "Image 91: Glaucoma detected. CDR: inf\n",
      "Image 92: Glaucoma detected. CDR: inf\n",
      "Image 93: Glaucoma detected. CDR: inf\n",
      "Image 94: Glaucoma detected. CDR: inf\n",
      "Image 95: Glaucoma detected. CDR: inf\n",
      "Image 96: Glaucoma detected. CDR: inf\n",
      "Image 97: Glaucoma detected. CDR: inf\n",
      "Image 98: Glaucoma detected. CDR: inf\n",
      "Image 99: Glaucoma detected. CDR: inf\n",
      "Image 100: Glaucoma detected. CDR: inf\n"
     ]
    }
   ],
   "source": [
    "import os\n",
    "import cv2\n",
    "import numpy as np\n",
    "import tensorflow as tf\n",
    "from tensorflow.keras.models import Model\n",
    "from tensorflow.keras.layers import Input, Conv2D, MaxPooling2D, Dropout, concatenate, Conv2DTranspose\n",
    "\n",
    "def load_and_preprocess_dataset(folder_path):\n",
    "    \"\"\"\n",
    "    Load and preprocess images and masks from the specified folder path.\n",
    "\n",
    "    Args:\n",
    "    - folder_path (str): Path to the folder containing image and mask files.\n",
    "\n",
    "    Returns:\n",
    "    - images (numpy.ndarray): Preprocessed images.\n",
    "    - masks (numpy.ndarray): Preprocessed masks.\n",
    "    \"\"\"\n",
    "    # Get list of files in the folder\n",
    "    file_list = sorted(os.listdir(folder_path))\n",
    "    \n",
    "    # Initialize lists to store images and masks\n",
    "    images = []\n",
    "    masks = []\n",
    "    \n",
    "    # Iterate over files\n",
    "    for file_name in file_list:\n",
    "        # Load image\n",
    "        if file_name.endswith('.png'):\n",
    "            image_path = os.path.join(folder_path, file_name)\n",
    "            image = cv2.imread(image_path)\n",
    "            # Preprocess images as needed (resize, normalize, etc.)\n",
    "            image = cv2.resize(image, (image_width, image_height))  # Resize image to match model input shape\n",
    "            image = image / 255.0  # Normalize image to range [0, 1]\n",
    "            images.append(image)\n",
    "        \n",
    "        # Load mask\n",
    "        elif file_name.endswith('.tif'):\n",
    "            mask_path = os.path.join(folder_path, file_name)\n",
    "            mask = cv2.imread(mask_path, cv2.IMREAD_GRAYSCALE)\n",
    "            # Preprocess masks as needed (resize, thresholding, etc.)\n",
    "            mask = cv2.resize(mask, (image_width, image_height))    # Resize mask to match model output shape\n",
    "            \n",
    "            # Threshold mask to separate disk and cup areas\n",
    "            _, mask = cv2.threshold(mask, 127, 255, cv2.THRESH_BINARY)  # Adjust threshold values as needed\n",
    "            \n",
    "            masks.append(mask)\n",
    "    \n",
    "    # Convert lists to numpy arrays\n",
    "    images = np.array(images)\n",
    "    masks = np.array(masks)\n",
    "    \n",
    "    return images, masks\n",
    "\n",
    "def outline_optic_disk(original_image, segmentation_mask):\n",
    "    \"\"\"\n",
    "    Outline the optic disk in the original image based on the segmentation mask.\n",
    "\n",
    "    Args:\n",
    "    - original_image (numpy.ndarray): Original fundus image.\n",
    "    - segmentation_mask (numpy.ndarray): Segmentation mask of the optic disk.\n",
    "\n",
    "    Returns:\n",
    "    - disk_outline (numpy.ndarray): Image with optic disk outline overlaid.\n",
    "    \"\"\"\n",
    "    # Convert segmentation mask to uint8 datatype\n",
    "    segmentation_mask = segmentation_mask.astype(np.uint8)\n",
    "\n",
    "    # Find contours of the optic disk\n",
    "    contours, _ = cv2.findContours(segmentation_mask, cv2.RETR_EXTERNAL, cv2.CHAIN_APPROX_SIMPLE)\n",
    "\n",
    "    # Create a copy of the original image for outlining\n",
    "    disk_outline = original_image.copy()\n",
    "\n",
    "    for contour in contours:\n",
    "        area = cv2.contourArea(contour)\n",
    "        if area > 50:  # Ignore small contours\n",
    "            # Approximate the contour to reduce the number of points\n",
    "            approx = cv2.approxPolyDP(contour, 0.01 * cv2.arcLength(contour, True), True)\n",
    "\n",
    "            if cv2.contourArea(approx) > 200:  # Threshold\n",
    "                cv2.drawContours(disk_outline, [approx], -1, (0, 0, 255), thickness=2)  # Red outline for disk\n",
    "\n",
    "    return disk_outline\n",
    "\n",
    "def outline_optic_cup(original_image, segmentation_mask):\n",
    "    \"\"\"\n",
    "    Outline the optic cup in the original image based on the segmentation mask.\n",
    "\n",
    "    Args:\n",
    "    - original_image (numpy.ndarray): Original fundus image.\n",
    "    - segmentation_mask (numpy.ndarray): Segmentation mask of the optic cup.\n",
    "\n",
    "    Returns:\n",
    "    - cup_outline (numpy.ndarray): Image with optic cup outline overlaid.\n",
    "    \"\"\"\n",
    "    # Threshold the segmentation mask\n",
    "    _, binary_mask = cv2.threshold(segmentation_mask, 127, 255, cv2.THRESH_BINARY)\n",
    "    binary_mask = binary_mask.astype(np.uint8)  # Convert mask to uint8 format\n",
    "    \n",
    "    # Find contours of the optic cup\n",
    "    contours, _ = cv2.findContours(binary_mask, cv2.RETR_EXTERNAL, cv2.CHAIN_APPROX_SIMPLE)\n",
    "    \n",
    "    # Create a copy of the original image for outlining\n",
    "    cup_outline = original_image.copy()\n",
    "\n",
    "    for contour in contours:\n",
    "        if cv2.contourArea(contour) > 50:  # Ignore small contours\n",
    "            cv2.drawContours(cup_outline, [contour], -1, (0, 255, 255), thickness=2)  # Yellow outline for cup\n",
    "\n",
    "    return cup_outline\n",
    "\n",
    "def calculate_cup_to_disk_ratio(segmentation_mask):\n",
    "    \"\"\"\n",
    "    Calculate the cup-to-disk ratio (CDR) based on the segmentation mask.\n",
    "\n",
    "    Args:\n",
    "    - segmentation_mask (numpy.ndarray): Segmentation mask of the optic disk and cup.\n",
    "\n",
    "    Returns:\n",
    "    - cdr (float): Cup-to-disk ratio.\n",
    "    \"\"\"\n",
    "    # Calculate areas of optic disk and cup\n",
    "    disk_area = np.sum(segmentation_mask == 128)  # Gray\n",
    "    cup_area = np.sum(segmentation_mask == 255)  # White\n",
    "    \n",
    "    # Check if disk area is zero to avoid division by zero\n",
    "    if disk_area == 0:\n",
    "        return float('inf')\n",
    "    \n",
    "    # Calculate cup-to-disk ratio\n",
    "    cdr = cup_area / disk_area\n",
    "    \n",
    "    return cdr\n",
    "\n",
    "def unet_model(input_shape):\n",
    "    \"\"\"\n",
    "    Define U-Net model architecture.\n",
    "\n",
    "    Args:\n",
    "    - input_shape (tuple): Shape of input images (height, width, channels).\n",
    "\n",
    "    Returns:\n",
    "    - model (tensorflow.keras.models.Model): U-Net model.\n",
    "    \"\"\"\n",
    "    inputs = Input(input_shape)\n",
    "    conv1 = Conv2D(64, 3, activation='relu', padding='same')(inputs)\n",
    "    conv1 = Conv2D(64, 3, activation='relu', padding='same')(conv1)\n",
    "    pool1 = MaxPooling2D(pool_size=(2, 2))(conv1)\n",
    "\n",
    "    conv2 = Conv2D(128, 3, activation='relu', padding='same')(pool1)\n",
    "    conv2 = Conv2D(128, 3, activation='relu', padding='same')(conv2)\n",
    "    pool2 = MaxPooling2D(pool_size=(2, 2))(conv2)\n",
    "\n",
    "    # Add more convolutional layers and pooling layers...\n",
    "\n",
    "    conv3 = Conv2D(256, 3, activation='relu', padding='same')(pool2)\n",
    "    conv3 = Conv2D(256, 3, activation='relu', padding='same')(conv3)\n",
    "    pool3 = MaxPooling2D(pool_size=(2, 2))(conv3)\n",
    "\n",
    "    # Add more convolutional layers and pooling layers...\n",
    "\n",
    "    conv4 = Conv2D(512, 3, activation='relu', padding='same')(pool3)\n",
    "    conv4 = Conv2D(512, 3, activation='relu', padding='same')(conv4)\n",
    "    drop4 = Dropout(0.5)(conv4)\n",
    "    pool4 = MaxPooling2D(pool_size=(2, 2))(drop4)\n",
    "\n",
    "    # Add more convolutional layers and pooling layers...\n",
    "\n",
    "    up5 = Conv2DTranspose(256, (2, 2), strides=(2, 2), padding='same')(pool4)\n",
    "    up5 = concatenate([up5, conv4], axis=3)\n",
    "    conv5 = Conv2D(256, 3, activation='relu', padding='same')(up5)\n",
    "    conv5 = Conv2D(256, 3, activation='relu', padding='same')(conv5)\n",
    "\n",
    "    # Add more upsampling and convolutional layers...\n",
    "\n",
    "    up6 = Conv2DTranspose(128, (2, 2), strides=(2, 2), padding='same')(conv5)\n",
    "    up6 = concatenate([up6, conv3], axis=3)\n",
    "    conv6 = Conv2D(128, 3, activation='relu', padding='same')(up6)\n",
    "    conv6 = Conv2D(128, 3, activation='relu', padding='same')(conv6)\n",
    "\n",
    "    # Add more upsampling and convolutional layers...\n",
    "\n",
    "    up7 = Conv2DTranspose(64, (2, 2), strides=(2, 2), padding='same')(conv6)\n",
    "    up7 = concatenate([up7, conv2], axis=3)\n",
    "    conv7 = Conv2D(64, 3, activation='relu', padding='same')(up7)\n",
    "    conv7 = Conv2D(64, 3, activation='relu', padding='same')(conv7)\n",
    "\n",
    "    # Add more upsampling and convolutional layers...\n",
    "\n",
    "    up8 = Conv2DTranspose(32, (2, 2), strides=(2, 2), padding='same')(conv7)\n",
    "    up8 = concatenate([up8, conv1], axis=3)\n",
    "    conv8 = Conv2D(32, 3, activation='relu', padding='same')(up8)\n",
    "    conv8 = Conv2D(32, 3, activation='relu', padding='same')(conv8)\n",
    "\n",
    "    # Add more upsampling and convolutional layers...\n",
    "\n",
    "    conv9 = Conv2D(2, 3, activation='relu', padding='same')(conv8)\n",
    "    conv10 = Conv2D(1, 1, activation='sigmoid')(conv9)\n",
    "\n",
    "    model = Model(inputs=[inputs], outputs=[conv10])\n",
    "    return model\n",
    "\n",
    "# Define image dimensions\n",
    "image_height = 256\n",
    "image_width = 256\n",
    "\n",
    "# Example usage\n",
    "data_folder = r\"C:\\Users\\saira\\OneDrive\\Desktop\\data_folder\"\n",
    "x_train, y_train = load_and_preprocess_dataset(os.path.join(data_folder, \"train\"))\n",
    "x_val, y_val = load_and_preprocess_dataset(os.path.join(data_folder, \"val\"))\n",
    "\n",
    "# Compile the model\n",
    "input_shape = (image_height, image_width, 3)\n",
    "model = unet_model(input_shape)\n",
    "model.compile(optimizer='adam', loss='binary_crossentropy', metrics=['accuracy'])\n",
    "\n",
    "# Train the model\n",
    "model.fit(x_train, y_train, batch_size=16, epochs=10, validation_data=(x_val, y_val))\n",
    "\n",
    "# Load and preprocess test dataset\n",
    "x_test, y_test = load_and_preprocess_dataset(os.path.join(data_folder, \"test\"))\n",
    "\n",
    "# Predict on test dataset\n",
    "predictions = model.predict(x_test)\n",
    "\n",
    "# Calculate CDR for each prediction and make glaucoma diagnosis\n",
    "for i in range(len(predictions)):\n",
    "    optic_disk_outline = outline_optic_disk(x_test[i], predictions[i])\n",
    "    optic_cup_outline = outline_optic_cup(x_test[i], predictions[i])\n",
    "    cdr = calculate_cup_to_disk_ratio(predictions[i])\n",
    "    \n",
    "    if cdr > 0.5:\n",
    "        print(f\"Image {i+1}: Glaucoma detected. CDR: {cdr:.4f}\")\n",
    "    else:\n",
    "        print(f\"Image {i+1}: No glaucoma detected. CDR: {cdr:.4f}\")\n"
   ]
  },
  {
   "cell_type": "code",
   "execution_count": 12,
   "id": "916b3f0a-dbb0-4830-921a-375950149c06",
   "metadata": {},
   "outputs": [
    {
     "name": "stdout",
     "output_type": "stream",
     "text": [
      "Accuracy: 0.0\n",
      "Precision: 0.6666666666666666\n",
      "Recall: 0.3333333333333333\n",
      "Intersection over Union (IoU): 0.0\n"
     ]
    }
   ],
   "source": [
    "from sklearn.metrics import accuracy_score, precision_score, recall_score\n",
    "from sklearn.metrics import jaccard_score  # IoU metric\n",
    "\n",
    "# Flatten masks and predictions for easier calculation\n",
    "y_test_flat = y_test.flatten()\n",
    "predictions_flat = predictions.flatten()\n",
    "\n",
    "# Threshold predictions to convert to binary masks\n",
    "threshold = 0.5\n",
    "predictions_binary = (predictions > threshold).astype(int).flatten()\n",
    "\n",
    "# Calculate metrics\n",
    "accuracy = accuracy_score(y_test_flat, predictions_binary)\n",
    "# Calculate precision for each class\n",
    "# Calculate precision for each class\n",
    "precision = precision_score(y_test_flat, predictions_binary, average='macro', zero_division=1)\n",
    "# Calculate recall for each class\n",
    "recall = recall_score(y_test_flat, predictions_binary, average='macro', zero_division=1)\n",
    "iou = jaccard_score(y_test_flat, predictions_binary, average='macro')\n",
    "\n",
    "print(\"Accuracy:\", accuracy)\n",
    "print(\"Precision:\", precision)\n",
    "print(\"Recall:\", recall)\n",
    "print(\"Intersection over Union (IoU):\", iou)\n"
   ]
  },
  {
   "cell_type": "code",
   "execution_count": 16,
   "id": "234c2caa-997f-47ec-9b11-d359c57d2383",
   "metadata": {},
   "outputs": [
    {
     "name": "stderr",
     "output_type": "stream",
     "text": [
      "C:\\Users\\saira\\anaconda3\\Lib\\site-packages\\sklearn\\cluster\\_kmeans.py:870: FutureWarning: The default value of `n_init` will change from 10 to 'auto' in 1.4. Set the value of `n_init` explicitly to suppress the warning\n",
      "  warnings.warn(\n"
     ]
    },
    {
     "name": "stdout",
     "output_type": "stream",
     "text": [
      "Unsupervised segmentation time: 0.8326327800750732 seconds\n",
      "\u001b[1m1/1\u001b[0m \u001b[32m━━━━━━━━━━━━━━━━━━━━\u001b[0m\u001b[37m\u001b[0m \u001b[1m1s\u001b[0m 951ms/step\n",
      "Supervised segmentation time: 1.3732318878173828 seconds\n",
      "Image 1:\n",
      "Unsupervised Segmentation - CDR: inf\n",
      "Supervised Segmentation - CDR: inf\n",
      "\n"
     ]
    },
    {
     "name": "stderr",
     "output_type": "stream",
     "text": [
      "C:\\Users\\saira\\anaconda3\\Lib\\site-packages\\sklearn\\cluster\\_kmeans.py:870: FutureWarning: The default value of `n_init` will change from 10 to 'auto' in 1.4. Set the value of `n_init` explicitly to suppress the warning\n",
      "  warnings.warn(\n"
     ]
    },
    {
     "name": "stdout",
     "output_type": "stream",
     "text": [
      "Unsupervised segmentation time: 0.7946202754974365 seconds\n",
      "\u001b[1m1/1\u001b[0m \u001b[32m━━━━━━━━━━━━━━━━━━━━\u001b[0m\u001b[37m\u001b[0m \u001b[1m0s\u001b[0m 300ms/step\n",
      "Supervised segmentation time: 0.36810755729675293 seconds\n",
      "Image 2:\n",
      "Unsupervised Segmentation - CDR: inf\n",
      "Supervised Segmentation - CDR: inf\n",
      "\n"
     ]
    },
    {
     "name": "stderr",
     "output_type": "stream",
     "text": [
      "C:\\Users\\saira\\anaconda3\\Lib\\site-packages\\sklearn\\cluster\\_kmeans.py:870: FutureWarning: The default value of `n_init` will change from 10 to 'auto' in 1.4. Set the value of `n_init` explicitly to suppress the warning\n",
      "  warnings.warn(\n"
     ]
    },
    {
     "name": "stdout",
     "output_type": "stream",
     "text": [
      "Unsupervised segmentation time: 0.8250133991241455 seconds\n",
      "\u001b[1m1/1\u001b[0m \u001b[32m━━━━━━━━━━━━━━━━━━━━\u001b[0m\u001b[37m\u001b[0m \u001b[1m0s\u001b[0m 233ms/step\n",
      "Supervised segmentation time: 0.3042440414428711 seconds\n",
      "Image 3:\n",
      "Unsupervised Segmentation - CDR: inf\n",
      "Supervised Segmentation - CDR: inf\n",
      "\n"
     ]
    },
    {
     "name": "stderr",
     "output_type": "stream",
     "text": [
      "C:\\Users\\saira\\anaconda3\\Lib\\site-packages\\sklearn\\cluster\\_kmeans.py:870: FutureWarning: The default value of `n_init` will change from 10 to 'auto' in 1.4. Set the value of `n_init` explicitly to suppress the warning\n",
      "  warnings.warn(\n"
     ]
    },
    {
     "name": "stdout",
     "output_type": "stream",
     "text": [
      "Unsupervised segmentation time: 0.7768208980560303 seconds\n",
      "\u001b[1m1/1\u001b[0m \u001b[32m━━━━━━━━━━━━━━━━━━━━\u001b[0m\u001b[37m\u001b[0m \u001b[1m0s\u001b[0m 220ms/step\n",
      "Supervised segmentation time: 0.2879197597503662 seconds\n",
      "Image 4:\n",
      "Unsupervised Segmentation - CDR: inf\n",
      "Supervised Segmentation - CDR: inf\n",
      "\n"
     ]
    },
    {
     "name": "stderr",
     "output_type": "stream",
     "text": [
      "C:\\Users\\saira\\anaconda3\\Lib\\site-packages\\sklearn\\cluster\\_kmeans.py:870: FutureWarning: The default value of `n_init` will change from 10 to 'auto' in 1.4. Set the value of `n_init` explicitly to suppress the warning\n",
      "  warnings.warn(\n"
     ]
    },
    {
     "name": "stdout",
     "output_type": "stream",
     "text": [
      "Unsupervised segmentation time: 0.795426607131958 seconds\n",
      "\u001b[1m1/1\u001b[0m \u001b[32m━━━━━━━━━━━━━━━━━━━━\u001b[0m\u001b[37m\u001b[0m \u001b[1m0s\u001b[0m 239ms/step\n",
      "Supervised segmentation time: 0.30380988121032715 seconds\n",
      "Image 5:\n",
      "Unsupervised Segmentation - CDR: inf\n",
      "Supervised Segmentation - CDR: inf\n",
      "\n"
     ]
    },
    {
     "name": "stderr",
     "output_type": "stream",
     "text": [
      "C:\\Users\\saira\\anaconda3\\Lib\\site-packages\\sklearn\\cluster\\_kmeans.py:870: FutureWarning: The default value of `n_init` will change from 10 to 'auto' in 1.4. Set the value of `n_init` explicitly to suppress the warning\n",
      "  warnings.warn(\n"
     ]
    },
    {
     "name": "stdout",
     "output_type": "stream",
     "text": [
      "Unsupervised segmentation time: 0.793032169342041 seconds\n",
      "\u001b[1m1/1\u001b[0m \u001b[32m━━━━━━━━━━━━━━━━━━━━\u001b[0m\u001b[37m\u001b[0m \u001b[1m0s\u001b[0m 229ms/step\n",
      "Supervised segmentation time: 0.3080894947052002 seconds\n",
      "Image 6:\n",
      "Unsupervised Segmentation - CDR: inf\n",
      "Supervised Segmentation - CDR: inf\n",
      "\n"
     ]
    },
    {
     "name": "stderr",
     "output_type": "stream",
     "text": [
      "C:\\Users\\saira\\anaconda3\\Lib\\site-packages\\sklearn\\cluster\\_kmeans.py:870: FutureWarning: The default value of `n_init` will change from 10 to 'auto' in 1.4. Set the value of `n_init` explicitly to suppress the warning\n",
      "  warnings.warn(\n"
     ]
    },
    {
     "name": "stdout",
     "output_type": "stream",
     "text": [
      "Unsupervised segmentation time: 0.8017804622650146 seconds\n",
      "\u001b[1m1/1\u001b[0m \u001b[32m━━━━━━━━━━━━━━━━━━━━\u001b[0m\u001b[37m\u001b[0m \u001b[1m0s\u001b[0m 255ms/step\n",
      "Supervised segmentation time: 0.33555126190185547 seconds\n",
      "Image 7:\n",
      "Unsupervised Segmentation - CDR: inf\n",
      "Supervised Segmentation - CDR: inf\n",
      "\n"
     ]
    },
    {
     "name": "stderr",
     "output_type": "stream",
     "text": [
      "C:\\Users\\saira\\anaconda3\\Lib\\site-packages\\sklearn\\cluster\\_kmeans.py:870: FutureWarning: The default value of `n_init` will change from 10 to 'auto' in 1.4. Set the value of `n_init` explicitly to suppress the warning\n",
      "  warnings.warn(\n"
     ]
    },
    {
     "name": "stdout",
     "output_type": "stream",
     "text": [
      "Unsupervised segmentation time: 0.8178863525390625 seconds\n",
      "\u001b[1m1/1\u001b[0m \u001b[32m━━━━━━━━━━━━━━━━━━━━\u001b[0m\u001b[37m\u001b[0m \u001b[1m0s\u001b[0m 212ms/step\n",
      "Supervised segmentation time: 0.27973222732543945 seconds\n",
      "Image 8:\n",
      "Unsupervised Segmentation - CDR: inf\n",
      "Supervised Segmentation - CDR: inf\n",
      "\n"
     ]
    },
    {
     "name": "stderr",
     "output_type": "stream",
     "text": [
      "C:\\Users\\saira\\anaconda3\\Lib\\site-packages\\sklearn\\cluster\\_kmeans.py:870: FutureWarning: The default value of `n_init` will change from 10 to 'auto' in 1.4. Set the value of `n_init` explicitly to suppress the warning\n",
      "  warnings.warn(\n"
     ]
    },
    {
     "name": "stdout",
     "output_type": "stream",
     "text": [
      "Unsupervised segmentation time: 0.775292158126831 seconds\n",
      "\u001b[1m1/1\u001b[0m \u001b[32m━━━━━━━━━━━━━━━━━━━━\u001b[0m\u001b[37m\u001b[0m \u001b[1m0s\u001b[0m 204ms/step\n",
      "Supervised segmentation time: 0.2730844020843506 seconds\n",
      "Image 9:\n",
      "Unsupervised Segmentation - CDR: inf\n",
      "Supervised Segmentation - CDR: inf\n",
      "\n"
     ]
    },
    {
     "name": "stderr",
     "output_type": "stream",
     "text": [
      "C:\\Users\\saira\\anaconda3\\Lib\\site-packages\\sklearn\\cluster\\_kmeans.py:870: FutureWarning: The default value of `n_init` will change from 10 to 'auto' in 1.4. Set the value of `n_init` explicitly to suppress the warning\n",
      "  warnings.warn(\n"
     ]
    },
    {
     "name": "stdout",
     "output_type": "stream",
     "text": [
      "Unsupervised segmentation time: 0.7947735786437988 seconds\n",
      "\u001b[1m1/1\u001b[0m \u001b[32m━━━━━━━━━━━━━━━━━━━━\u001b[0m\u001b[37m\u001b[0m \u001b[1m0s\u001b[0m 211ms/step\n",
      "Supervised segmentation time: 0.2763221263885498 seconds\n",
      "Image 10:\n",
      "Unsupervised Segmentation - CDR: inf\n",
      "Supervised Segmentation - CDR: inf\n",
      "\n"
     ]
    },
    {
     "name": "stderr",
     "output_type": "stream",
     "text": [
      "C:\\Users\\saira\\anaconda3\\Lib\\site-packages\\sklearn\\cluster\\_kmeans.py:870: FutureWarning: The default value of `n_init` will change from 10 to 'auto' in 1.4. Set the value of `n_init` explicitly to suppress the warning\n",
      "  warnings.warn(\n"
     ]
    },
    {
     "name": "stdout",
     "output_type": "stream",
     "text": [
      "Unsupervised segmentation time: 0.7821500301361084 seconds\n",
      "\u001b[1m1/1\u001b[0m \u001b[32m━━━━━━━━━━━━━━━━━━━━\u001b[0m\u001b[37m\u001b[0m \u001b[1m0s\u001b[0m 215ms/step\n",
      "Supervised segmentation time: 0.28816914558410645 seconds\n",
      "Image 11:\n",
      "Unsupervised Segmentation - CDR: inf\n",
      "Supervised Segmentation - CDR: inf\n",
      "\n"
     ]
    },
    {
     "name": "stderr",
     "output_type": "stream",
     "text": [
      "C:\\Users\\saira\\anaconda3\\Lib\\site-packages\\sklearn\\cluster\\_kmeans.py:870: FutureWarning: The default value of `n_init` will change from 10 to 'auto' in 1.4. Set the value of `n_init` explicitly to suppress the warning\n",
      "  warnings.warn(\n"
     ]
    },
    {
     "name": "stdout",
     "output_type": "stream",
     "text": [
      "Unsupervised segmentation time: 0.8164105415344238 seconds\n",
      "\u001b[1m1/1\u001b[0m \u001b[32m━━━━━━━━━━━━━━━━━━━━\u001b[0m\u001b[37m\u001b[0m \u001b[1m0s\u001b[0m 282ms/step\n",
      "Supervised segmentation time: 0.3541858196258545 seconds\n",
      "Image 12:\n",
      "Unsupervised Segmentation - CDR: inf\n",
      "Supervised Segmentation - CDR: inf\n",
      "\n"
     ]
    },
    {
     "name": "stderr",
     "output_type": "stream",
     "text": [
      "C:\\Users\\saira\\anaconda3\\Lib\\site-packages\\sklearn\\cluster\\_kmeans.py:870: FutureWarning: The default value of `n_init` will change from 10 to 'auto' in 1.4. Set the value of `n_init` explicitly to suppress the warning\n",
      "  warnings.warn(\n"
     ]
    },
    {
     "name": "stdout",
     "output_type": "stream",
     "text": [
      "Unsupervised segmentation time: 0.8067164421081543 seconds\n",
      "\u001b[1m1/1\u001b[0m \u001b[32m━━━━━━━━━━━━━━━━━━━━\u001b[0m\u001b[37m\u001b[0m \u001b[1m0s\u001b[0m 218ms/step\n",
      "Supervised segmentation time: 0.2906227111816406 seconds\n",
      "Image 13:\n",
      "Unsupervised Segmentation - CDR: inf\n",
      "Supervised Segmentation - CDR: inf\n",
      "\n"
     ]
    },
    {
     "name": "stderr",
     "output_type": "stream",
     "text": [
      "C:\\Users\\saira\\anaconda3\\Lib\\site-packages\\sklearn\\cluster\\_kmeans.py:870: FutureWarning: The default value of `n_init` will change from 10 to 'auto' in 1.4. Set the value of `n_init` explicitly to suppress the warning\n",
      "  warnings.warn(\n"
     ]
    },
    {
     "name": "stdout",
     "output_type": "stream",
     "text": [
      "Unsupervised segmentation time: 0.8357322216033936 seconds\n",
      "\u001b[1m1/1\u001b[0m \u001b[32m━━━━━━━━━━━━━━━━━━━━\u001b[0m\u001b[37m\u001b[0m \u001b[1m0s\u001b[0m 224ms/step\n",
      "Supervised segmentation time: 0.29285597801208496 seconds\n",
      "Image 14:\n",
      "Unsupervised Segmentation - CDR: inf\n",
      "Supervised Segmentation - CDR: inf\n",
      "\n"
     ]
    },
    {
     "name": "stderr",
     "output_type": "stream",
     "text": [
      "C:\\Users\\saira\\anaconda3\\Lib\\site-packages\\sklearn\\cluster\\_kmeans.py:870: FutureWarning: The default value of `n_init` will change from 10 to 'auto' in 1.4. Set the value of `n_init` explicitly to suppress the warning\n",
      "  warnings.warn(\n"
     ]
    },
    {
     "name": "stdout",
     "output_type": "stream",
     "text": [
      "Unsupervised segmentation time: 0.8030226230621338 seconds\n",
      "\u001b[1m1/1\u001b[0m \u001b[32m━━━━━━━━━━━━━━━━━━━━\u001b[0m\u001b[37m\u001b[0m \u001b[1m0s\u001b[0m 222ms/step\n",
      "Supervised segmentation time: 0.2832932472229004 seconds\n",
      "Image 15:\n",
      "Unsupervised Segmentation - CDR: inf\n",
      "Supervised Segmentation - CDR: inf\n",
      "\n"
     ]
    },
    {
     "name": "stderr",
     "output_type": "stream",
     "text": [
      "C:\\Users\\saira\\anaconda3\\Lib\\site-packages\\sklearn\\cluster\\_kmeans.py:870: FutureWarning: The default value of `n_init` will change from 10 to 'auto' in 1.4. Set the value of `n_init` explicitly to suppress the warning\n",
      "  warnings.warn(\n"
     ]
    },
    {
     "name": "stdout",
     "output_type": "stream",
     "text": [
      "Unsupervised segmentation time: 0.8118844032287598 seconds\n",
      "\u001b[1m1/1\u001b[0m \u001b[32m━━━━━━━━━━━━━━━━━━━━\u001b[0m\u001b[37m\u001b[0m \u001b[1m0s\u001b[0m 230ms/step\n",
      "Supervised segmentation time: 0.3090808391571045 seconds\n",
      "Image 16:\n",
      "Unsupervised Segmentation - CDR: inf\n",
      "Supervised Segmentation - CDR: inf\n",
      "\n"
     ]
    },
    {
     "name": "stderr",
     "output_type": "stream",
     "text": [
      "C:\\Users\\saira\\anaconda3\\Lib\\site-packages\\sklearn\\cluster\\_kmeans.py:870: FutureWarning: The default value of `n_init` will change from 10 to 'auto' in 1.4. Set the value of `n_init` explicitly to suppress the warning\n",
      "  warnings.warn(\n"
     ]
    },
    {
     "name": "stdout",
     "output_type": "stream",
     "text": [
      "Unsupervised segmentation time: 0.7877888679504395 seconds\n",
      "\u001b[1m1/1\u001b[0m \u001b[32m━━━━━━━━━━━━━━━━━━━━\u001b[0m\u001b[37m\u001b[0m \u001b[1m0s\u001b[0m 235ms/step\n",
      "Supervised segmentation time: 0.30940794944763184 seconds\n",
      "Image 17:\n",
      "Unsupervised Segmentation - CDR: inf\n",
      "Supervised Segmentation - CDR: inf\n",
      "\n"
     ]
    },
    {
     "name": "stderr",
     "output_type": "stream",
     "text": [
      "C:\\Users\\saira\\anaconda3\\Lib\\site-packages\\sklearn\\cluster\\_kmeans.py:870: FutureWarning: The default value of `n_init` will change from 10 to 'auto' in 1.4. Set the value of `n_init` explicitly to suppress the warning\n",
      "  warnings.warn(\n"
     ]
    },
    {
     "name": "stdout",
     "output_type": "stream",
     "text": [
      "Unsupervised segmentation time: 0.801933765411377 seconds\n",
      "\u001b[1m1/1\u001b[0m \u001b[32m━━━━━━━━━━━━━━━━━━━━\u001b[0m\u001b[37m\u001b[0m \u001b[1m0s\u001b[0m 220ms/step\n",
      "Supervised segmentation time: 0.2941417694091797 seconds\n",
      "Image 18:\n",
      "Unsupervised Segmentation - CDR: inf\n",
      "Supervised Segmentation - CDR: inf\n",
      "\n"
     ]
    },
    {
     "name": "stderr",
     "output_type": "stream",
     "text": [
      "C:\\Users\\saira\\anaconda3\\Lib\\site-packages\\sklearn\\cluster\\_kmeans.py:870: FutureWarning: The default value of `n_init` will change from 10 to 'auto' in 1.4. Set the value of `n_init` explicitly to suppress the warning\n",
      "  warnings.warn(\n"
     ]
    },
    {
     "name": "stdout",
     "output_type": "stream",
     "text": [
      "Unsupervised segmentation time: 0.8025643825531006 seconds\n",
      "\u001b[1m1/1\u001b[0m \u001b[32m━━━━━━━━━━━━━━━━━━━━\u001b[0m\u001b[37m\u001b[0m \u001b[1m0s\u001b[0m 280ms/step\n",
      "Supervised segmentation time: 0.3511385917663574 seconds\n",
      "Image 19:\n",
      "Unsupervised Segmentation - CDR: inf\n",
      "Supervised Segmentation - CDR: inf\n",
      "\n"
     ]
    },
    {
     "name": "stderr",
     "output_type": "stream",
     "text": [
      "C:\\Users\\saira\\anaconda3\\Lib\\site-packages\\sklearn\\cluster\\_kmeans.py:870: FutureWarning: The default value of `n_init` will change from 10 to 'auto' in 1.4. Set the value of `n_init` explicitly to suppress the warning\n",
      "  warnings.warn(\n"
     ]
    },
    {
     "name": "stdout",
     "output_type": "stream",
     "text": [
      "Unsupervised segmentation time: 0.7918999195098877 seconds\n",
      "\u001b[1m1/1\u001b[0m \u001b[32m━━━━━━━━━━━━━━━━━━━━\u001b[0m\u001b[37m\u001b[0m \u001b[1m0s\u001b[0m 210ms/step\n",
      "Supervised segmentation time: 0.28304481506347656 seconds\n",
      "Image 20:\n",
      "Unsupervised Segmentation - CDR: inf\n",
      "Supervised Segmentation - CDR: inf\n",
      "\n"
     ]
    },
    {
     "name": "stderr",
     "output_type": "stream",
     "text": [
      "C:\\Users\\saira\\anaconda3\\Lib\\site-packages\\sklearn\\cluster\\_kmeans.py:870: FutureWarning: The default value of `n_init` will change from 10 to 'auto' in 1.4. Set the value of `n_init` explicitly to suppress the warning\n",
      "  warnings.warn(\n"
     ]
    },
    {
     "name": "stdout",
     "output_type": "stream",
     "text": [
      "Unsupervised segmentation time: 0.8000304698944092 seconds\n",
      "\u001b[1m1/1\u001b[0m \u001b[32m━━━━━━━━━━━━━━━━━━━━\u001b[0m\u001b[37m\u001b[0m \u001b[1m0s\u001b[0m 236ms/step\n",
      "Supervised segmentation time: 0.3127741813659668 seconds\n",
      "Image 21:\n",
      "Unsupervised Segmentation - CDR: inf\n",
      "Supervised Segmentation - CDR: inf\n",
      "\n"
     ]
    },
    {
     "name": "stderr",
     "output_type": "stream",
     "text": [
      "C:\\Users\\saira\\anaconda3\\Lib\\site-packages\\sklearn\\cluster\\_kmeans.py:870: FutureWarning: The default value of `n_init` will change from 10 to 'auto' in 1.4. Set the value of `n_init` explicitly to suppress the warning\n",
      "  warnings.warn(\n"
     ]
    },
    {
     "name": "stdout",
     "output_type": "stream",
     "text": [
      "Unsupervised segmentation time: 0.8237299919128418 seconds\n",
      "\u001b[1m1/1\u001b[0m \u001b[32m━━━━━━━━━━━━━━━━━━━━\u001b[0m\u001b[37m\u001b[0m \u001b[1m0s\u001b[0m 216ms/step\n",
      "Supervised segmentation time: 0.2812926769256592 seconds\n",
      "Image 22:\n",
      "Unsupervised Segmentation - CDR: inf\n",
      "Supervised Segmentation - CDR: inf\n",
      "\n"
     ]
    },
    {
     "name": "stderr",
     "output_type": "stream",
     "text": [
      "C:\\Users\\saira\\anaconda3\\Lib\\site-packages\\sklearn\\cluster\\_kmeans.py:870: FutureWarning: The default value of `n_init` will change from 10 to 'auto' in 1.4. Set the value of `n_init` explicitly to suppress the warning\n",
      "  warnings.warn(\n"
     ]
    },
    {
     "name": "stdout",
     "output_type": "stream",
     "text": [
      "Unsupervised segmentation time: 0.8006787300109863 seconds\n",
      "\u001b[1m1/1\u001b[0m \u001b[32m━━━━━━━━━━━━━━━━━━━━\u001b[0m\u001b[37m\u001b[0m \u001b[1m0s\u001b[0m 233ms/step\n",
      "Supervised segmentation time: 0.29161882400512695 seconds\n",
      "Image 23:\n",
      "Unsupervised Segmentation - CDR: inf\n",
      "Supervised Segmentation - CDR: inf\n",
      "\n"
     ]
    },
    {
     "name": "stderr",
     "output_type": "stream",
     "text": [
      "C:\\Users\\saira\\anaconda3\\Lib\\site-packages\\sklearn\\cluster\\_kmeans.py:870: FutureWarning: The default value of `n_init` will change from 10 to 'auto' in 1.4. Set the value of `n_init` explicitly to suppress the warning\n",
      "  warnings.warn(\n"
     ]
    },
    {
     "name": "stdout",
     "output_type": "stream",
     "text": [
      "Unsupervised segmentation time: 0.8299555778503418 seconds\n",
      "\u001b[1m1/1\u001b[0m \u001b[32m━━━━━━━━━━━━━━━━━━━━\u001b[0m\u001b[37m\u001b[0m \u001b[1m0s\u001b[0m 258ms/step\n",
      "Supervised segmentation time: 0.3452491760253906 seconds\n",
      "Image 24:\n",
      "Unsupervised Segmentation - CDR: inf\n",
      "Supervised Segmentation - CDR: inf\n",
      "\n"
     ]
    },
    {
     "name": "stderr",
     "output_type": "stream",
     "text": [
      "C:\\Users\\saira\\anaconda3\\Lib\\site-packages\\sklearn\\cluster\\_kmeans.py:870: FutureWarning: The default value of `n_init` will change from 10 to 'auto' in 1.4. Set the value of `n_init` explicitly to suppress the warning\n",
      "  warnings.warn(\n"
     ]
    },
    {
     "name": "stdout",
     "output_type": "stream",
     "text": [
      "Unsupervised segmentation time: 0.7906856536865234 seconds\n",
      "\u001b[1m1/1\u001b[0m \u001b[32m━━━━━━━━━━━━━━━━━━━━\u001b[0m\u001b[37m\u001b[0m \u001b[1m0s\u001b[0m 233ms/step\n",
      "Supervised segmentation time: 0.29150915145874023 seconds\n",
      "Image 25:\n",
      "Unsupervised Segmentation - CDR: inf\n",
      "Supervised Segmentation - CDR: inf\n",
      "\n"
     ]
    },
    {
     "name": "stderr",
     "output_type": "stream",
     "text": [
      "C:\\Users\\saira\\anaconda3\\Lib\\site-packages\\sklearn\\cluster\\_kmeans.py:870: FutureWarning: The default value of `n_init` will change from 10 to 'auto' in 1.4. Set the value of `n_init` explicitly to suppress the warning\n",
      "  warnings.warn(\n"
     ]
    },
    {
     "name": "stdout",
     "output_type": "stream",
     "text": [
      "Unsupervised segmentation time: 0.796065092086792 seconds\n",
      "\u001b[1m1/1\u001b[0m \u001b[32m━━━━━━━━━━━━━━━━━━━━\u001b[0m\u001b[37m\u001b[0m \u001b[1m0s\u001b[0m 226ms/step\n",
      "Supervised segmentation time: 0.28225207328796387 seconds\n",
      "Image 26:\n",
      "Unsupervised Segmentation - CDR: inf\n",
      "Supervised Segmentation - CDR: inf\n",
      "\n"
     ]
    },
    {
     "name": "stderr",
     "output_type": "stream",
     "text": [
      "C:\\Users\\saira\\anaconda3\\Lib\\site-packages\\sklearn\\cluster\\_kmeans.py:870: FutureWarning: The default value of `n_init` will change from 10 to 'auto' in 1.4. Set the value of `n_init` explicitly to suppress the warning\n",
      "  warnings.warn(\n"
     ]
    },
    {
     "name": "stdout",
     "output_type": "stream",
     "text": [
      "Unsupervised segmentation time: 0.8376262187957764 seconds\n",
      "\u001b[1m1/1\u001b[0m \u001b[32m━━━━━━━━━━━━━━━━━━━━\u001b[0m\u001b[37m\u001b[0m \u001b[1m0s\u001b[0m 213ms/step\n",
      "Supervised segmentation time: 0.2801945209503174 seconds\n",
      "Image 27:\n",
      "Unsupervised Segmentation - CDR: inf\n",
      "Supervised Segmentation - CDR: inf\n",
      "\n"
     ]
    },
    {
     "name": "stderr",
     "output_type": "stream",
     "text": [
      "C:\\Users\\saira\\anaconda3\\Lib\\site-packages\\sklearn\\cluster\\_kmeans.py:870: FutureWarning: The default value of `n_init` will change from 10 to 'auto' in 1.4. Set the value of `n_init` explicitly to suppress the warning\n",
      "  warnings.warn(\n"
     ]
    },
    {
     "name": "stdout",
     "output_type": "stream",
     "text": [
      "Unsupervised segmentation time: 0.859997034072876 seconds\n",
      "\u001b[1m1/1\u001b[0m \u001b[32m━━━━━━━━━━━━━━━━━━━━\u001b[0m\u001b[37m\u001b[0m \u001b[1m0s\u001b[0m 234ms/step\n",
      "Supervised segmentation time: 0.2949833869934082 seconds\n",
      "Image 28:\n",
      "Unsupervised Segmentation - CDR: inf\n",
      "Supervised Segmentation - CDR: inf\n",
      "\n"
     ]
    },
    {
     "name": "stderr",
     "output_type": "stream",
     "text": [
      "C:\\Users\\saira\\anaconda3\\Lib\\site-packages\\sklearn\\cluster\\_kmeans.py:870: FutureWarning: The default value of `n_init` will change from 10 to 'auto' in 1.4. Set the value of `n_init` explicitly to suppress the warning\n",
      "  warnings.warn(\n"
     ]
    },
    {
     "name": "stdout",
     "output_type": "stream",
     "text": [
      "Unsupervised segmentation time: 0.8064417839050293 seconds\n",
      "\u001b[1m1/1\u001b[0m \u001b[32m━━━━━━━━━━━━━━━━━━━━\u001b[0m\u001b[37m\u001b[0m \u001b[1m0s\u001b[0m 205ms/step\n",
      "Supervised segmentation time: 0.27715206146240234 seconds\n",
      "Image 29:\n",
      "Unsupervised Segmentation - CDR: inf\n",
      "Supervised Segmentation - CDR: inf\n",
      "\n"
     ]
    },
    {
     "name": "stderr",
     "output_type": "stream",
     "text": [
      "C:\\Users\\saira\\anaconda3\\Lib\\site-packages\\sklearn\\cluster\\_kmeans.py:870: FutureWarning: The default value of `n_init` will change from 10 to 'auto' in 1.4. Set the value of `n_init` explicitly to suppress the warning\n",
      "  warnings.warn(\n"
     ]
    },
    {
     "name": "stdout",
     "output_type": "stream",
     "text": [
      "Unsupervised segmentation time: 0.806114673614502 seconds\n",
      "\u001b[1m1/1\u001b[0m \u001b[32m━━━━━━━━━━━━━━━━━━━━\u001b[0m\u001b[37m\u001b[0m \u001b[1m0s\u001b[0m 245ms/step\n",
      "Supervised segmentation time: 0.3105888366699219 seconds\n",
      "Image 30:\n",
      "Unsupervised Segmentation - CDR: inf\n",
      "Supervised Segmentation - CDR: inf\n",
      "\n"
     ]
    },
    {
     "name": "stderr",
     "output_type": "stream",
     "text": [
      "C:\\Users\\saira\\anaconda3\\Lib\\site-packages\\sklearn\\cluster\\_kmeans.py:870: FutureWarning: The default value of `n_init` will change from 10 to 'auto' in 1.4. Set the value of `n_init` explicitly to suppress the warning\n",
      "  warnings.warn(\n"
     ]
    },
    {
     "name": "stdout",
     "output_type": "stream",
     "text": [
      "Unsupervised segmentation time: 0.8446176052093506 seconds\n",
      "\u001b[1m1/1\u001b[0m \u001b[32m━━━━━━━━━━━━━━━━━━━━\u001b[0m\u001b[37m\u001b[0m \u001b[1m0s\u001b[0m 220ms/step\n",
      "Supervised segmentation time: 0.3017458915710449 seconds\n",
      "Image 31:\n",
      "Unsupervised Segmentation - CDR: inf\n",
      "Supervised Segmentation - CDR: inf\n",
      "\n"
     ]
    },
    {
     "name": "stderr",
     "output_type": "stream",
     "text": [
      "C:\\Users\\saira\\anaconda3\\Lib\\site-packages\\sklearn\\cluster\\_kmeans.py:870: FutureWarning: The default value of `n_init` will change from 10 to 'auto' in 1.4. Set the value of `n_init` explicitly to suppress the warning\n",
      "  warnings.warn(\n"
     ]
    },
    {
     "name": "stdout",
     "output_type": "stream",
     "text": [
      "Unsupervised segmentation time: 0.8758397102355957 seconds\n",
      "\u001b[1m1/1\u001b[0m \u001b[32m━━━━━━━━━━━━━━━━━━━━\u001b[0m\u001b[37m\u001b[0m \u001b[1m0s\u001b[0m 277ms/step\n",
      "Supervised segmentation time: 0.3392915725708008 seconds\n",
      "Image 32:\n",
      "Unsupervised Segmentation - CDR: inf\n",
      "Supervised Segmentation - CDR: inf\n",
      "\n"
     ]
    },
    {
     "name": "stderr",
     "output_type": "stream",
     "text": [
      "C:\\Users\\saira\\anaconda3\\Lib\\site-packages\\sklearn\\cluster\\_kmeans.py:870: FutureWarning: The default value of `n_init` will change from 10 to 'auto' in 1.4. Set the value of `n_init` explicitly to suppress the warning\n",
      "  warnings.warn(\n"
     ]
    },
    {
     "name": "stdout",
     "output_type": "stream",
     "text": [
      "Unsupervised segmentation time: 0.864037036895752 seconds\n",
      "\u001b[1m1/1\u001b[0m \u001b[32m━━━━━━━━━━━━━━━━━━━━\u001b[0m\u001b[37m\u001b[0m \u001b[1m0s\u001b[0m 246ms/step\n",
      "Supervised segmentation time: 0.31896185874938965 seconds\n",
      "Image 33:\n",
      "Unsupervised Segmentation - CDR: inf\n",
      "Supervised Segmentation - CDR: inf\n",
      "\n"
     ]
    },
    {
     "name": "stderr",
     "output_type": "stream",
     "text": [
      "C:\\Users\\saira\\anaconda3\\Lib\\site-packages\\sklearn\\cluster\\_kmeans.py:870: FutureWarning: The default value of `n_init` will change from 10 to 'auto' in 1.4. Set the value of `n_init` explicitly to suppress the warning\n",
      "  warnings.warn(\n"
     ]
    },
    {
     "name": "stdout",
     "output_type": "stream",
     "text": [
      "Unsupervised segmentation time: 0.8975210189819336 seconds\n",
      "\u001b[1m1/1\u001b[0m \u001b[32m━━━━━━━━━━━━━━━━━━━━\u001b[0m\u001b[37m\u001b[0m \u001b[1m0s\u001b[0m 230ms/step\n",
      "Supervised segmentation time: 0.32697439193725586 seconds\n",
      "Image 34:\n",
      "Unsupervised Segmentation - CDR: inf\n",
      "Supervised Segmentation - CDR: inf\n",
      "\n"
     ]
    },
    {
     "name": "stderr",
     "output_type": "stream",
     "text": [
      "C:\\Users\\saira\\anaconda3\\Lib\\site-packages\\sklearn\\cluster\\_kmeans.py:870: FutureWarning: The default value of `n_init` will change from 10 to 'auto' in 1.4. Set the value of `n_init` explicitly to suppress the warning\n",
      "  warnings.warn(\n"
     ]
    },
    {
     "name": "stdout",
     "output_type": "stream",
     "text": [
      "Unsupervised segmentation time: 0.871985912322998 seconds\n",
      "\u001b[1m1/1\u001b[0m \u001b[32m━━━━━━━━━━━━━━━━━━━━\u001b[0m\u001b[37m\u001b[0m \u001b[1m0s\u001b[0m 275ms/step\n",
      "Supervised segmentation time: 0.34514927864074707 seconds\n",
      "Image 35:\n",
      "Unsupervised Segmentation - CDR: inf\n",
      "Supervised Segmentation - CDR: inf\n",
      "\n"
     ]
    },
    {
     "name": "stderr",
     "output_type": "stream",
     "text": [
      "C:\\Users\\saira\\anaconda3\\Lib\\site-packages\\sklearn\\cluster\\_kmeans.py:870: FutureWarning: The default value of `n_init` will change from 10 to 'auto' in 1.4. Set the value of `n_init` explicitly to suppress the warning\n",
      "  warnings.warn(\n"
     ]
    },
    {
     "name": "stdout",
     "output_type": "stream",
     "text": [
      "Unsupervised segmentation time: 0.8826608657836914 seconds\n",
      "\u001b[1m1/1\u001b[0m \u001b[32m━━━━━━━━━━━━━━━━━━━━\u001b[0m\u001b[37m\u001b[0m \u001b[1m0s\u001b[0m 248ms/step\n",
      "Supervised segmentation time: 0.3302178382873535 seconds\n",
      "Image 36:\n",
      "Unsupervised Segmentation - CDR: inf\n",
      "Supervised Segmentation - CDR: inf\n",
      "\n"
     ]
    },
    {
     "name": "stderr",
     "output_type": "stream",
     "text": [
      "C:\\Users\\saira\\anaconda3\\Lib\\site-packages\\sklearn\\cluster\\_kmeans.py:870: FutureWarning: The default value of `n_init` will change from 10 to 'auto' in 1.4. Set the value of `n_init` explicitly to suppress the warning\n",
      "  warnings.warn(\n"
     ]
    },
    {
     "name": "stdout",
     "output_type": "stream",
     "text": [
      "Unsupervised segmentation time: 0.8725614547729492 seconds\n",
      "\u001b[1m1/1\u001b[0m \u001b[32m━━━━━━━━━━━━━━━━━━━━\u001b[0m\u001b[37m\u001b[0m \u001b[1m0s\u001b[0m 220ms/step\n",
      "Supervised segmentation time: 0.29355406761169434 seconds\n",
      "Image 37:\n",
      "Unsupervised Segmentation - CDR: inf\n",
      "Supervised Segmentation - CDR: inf\n",
      "\n"
     ]
    },
    {
     "name": "stderr",
     "output_type": "stream",
     "text": [
      "C:\\Users\\saira\\anaconda3\\Lib\\site-packages\\sklearn\\cluster\\_kmeans.py:870: FutureWarning: The default value of `n_init` will change from 10 to 'auto' in 1.4. Set the value of `n_init` explicitly to suppress the warning\n",
      "  warnings.warn(\n"
     ]
    },
    {
     "name": "stdout",
     "output_type": "stream",
     "text": [
      "Unsupervised segmentation time: 0.8620445728302002 seconds\n",
      "\u001b[1m1/1\u001b[0m \u001b[32m━━━━━━━━━━━━━━━━━━━━\u001b[0m\u001b[37m\u001b[0m \u001b[1m0s\u001b[0m 244ms/step\n",
      "Supervised segmentation time: 0.31949281692504883 seconds\n",
      "Image 38:\n",
      "Unsupervised Segmentation - CDR: inf\n",
      "Supervised Segmentation - CDR: inf\n",
      "\n"
     ]
    },
    {
     "name": "stderr",
     "output_type": "stream",
     "text": [
      "C:\\Users\\saira\\anaconda3\\Lib\\site-packages\\sklearn\\cluster\\_kmeans.py:870: FutureWarning: The default value of `n_init` will change from 10 to 'auto' in 1.4. Set the value of `n_init` explicitly to suppress the warning\n",
      "  warnings.warn(\n"
     ]
    },
    {
     "name": "stdout",
     "output_type": "stream",
     "text": [
      "Unsupervised segmentation time: 0.8812518119812012 seconds\n",
      "\u001b[1m1/1\u001b[0m \u001b[32m━━━━━━━━━━━━━━━━━━━━\u001b[0m\u001b[37m\u001b[0m \u001b[1m0s\u001b[0m 230ms/step\n",
      "Supervised segmentation time: 0.3016655445098877 seconds\n",
      "Image 39:\n",
      "Unsupervised Segmentation - CDR: inf\n",
      "Supervised Segmentation - CDR: inf\n",
      "\n"
     ]
    },
    {
     "name": "stderr",
     "output_type": "stream",
     "text": [
      "C:\\Users\\saira\\anaconda3\\Lib\\site-packages\\sklearn\\cluster\\_kmeans.py:870: FutureWarning: The default value of `n_init` will change from 10 to 'auto' in 1.4. Set the value of `n_init` explicitly to suppress the warning\n",
      "  warnings.warn(\n"
     ]
    },
    {
     "name": "stdout",
     "output_type": "stream",
     "text": [
      "Unsupervised segmentation time: 0.8526492118835449 seconds\n",
      "\u001b[1m1/1\u001b[0m \u001b[32m━━━━━━━━━━━━━━━━━━━━\u001b[0m\u001b[37m\u001b[0m \u001b[1m0s\u001b[0m 220ms/step\n",
      "Supervised segmentation time: 0.302936315536499 seconds\n",
      "Image 40:\n",
      "Unsupervised Segmentation - CDR: inf\n",
      "Supervised Segmentation - CDR: inf\n",
      "\n"
     ]
    },
    {
     "name": "stderr",
     "output_type": "stream",
     "text": [
      "C:\\Users\\saira\\anaconda3\\Lib\\site-packages\\sklearn\\cluster\\_kmeans.py:870: FutureWarning: The default value of `n_init` will change from 10 to 'auto' in 1.4. Set the value of `n_init` explicitly to suppress the warning\n",
      "  warnings.warn(\n"
     ]
    },
    {
     "name": "stdout",
     "output_type": "stream",
     "text": [
      "Unsupervised segmentation time: 0.882537841796875 seconds\n",
      "\u001b[1m1/1\u001b[0m \u001b[32m━━━━━━━━━━━━━━━━━━━━\u001b[0m\u001b[37m\u001b[0m \u001b[1m0s\u001b[0m 221ms/step\n",
      "Supervised segmentation time: 0.29190587997436523 seconds\n",
      "Image 41:\n",
      "Unsupervised Segmentation - CDR: inf\n",
      "Supervised Segmentation - CDR: inf\n",
      "\n"
     ]
    },
    {
     "name": "stderr",
     "output_type": "stream",
     "text": [
      "C:\\Users\\saira\\anaconda3\\Lib\\site-packages\\sklearn\\cluster\\_kmeans.py:870: FutureWarning: The default value of `n_init` will change from 10 to 'auto' in 1.4. Set the value of `n_init` explicitly to suppress the warning\n",
      "  warnings.warn(\n"
     ]
    },
    {
     "name": "stdout",
     "output_type": "stream",
     "text": [
      "Unsupervised segmentation time: 0.925628662109375 seconds\n",
      "\u001b[1m1/1\u001b[0m \u001b[32m━━━━━━━━━━━━━━━━━━━━\u001b[0m\u001b[37m\u001b[0m \u001b[1m0s\u001b[0m 240ms/step\n",
      "Supervised segmentation time: 0.33046579360961914 seconds\n",
      "Image 42:\n",
      "Unsupervised Segmentation - CDR: inf\n",
      "Supervised Segmentation - CDR: inf\n",
      "\n"
     ]
    },
    {
     "name": "stderr",
     "output_type": "stream",
     "text": [
      "C:\\Users\\saira\\anaconda3\\Lib\\site-packages\\sklearn\\cluster\\_kmeans.py:870: FutureWarning: The default value of `n_init` will change from 10 to 'auto' in 1.4. Set the value of `n_init` explicitly to suppress the warning\n",
      "  warnings.warn(\n"
     ]
    },
    {
     "name": "stdout",
     "output_type": "stream",
     "text": [
      "Unsupervised segmentation time: 0.8625087738037109 seconds\n",
      "\u001b[1m1/1\u001b[0m \u001b[32m━━━━━━━━━━━━━━━━━━━━\u001b[0m\u001b[37m\u001b[0m \u001b[1m0s\u001b[0m 215ms/step\n",
      "Supervised segmentation time: 0.28497314453125 seconds\n",
      "Image 43:\n",
      "Unsupervised Segmentation - CDR: inf\n",
      "Supervised Segmentation - CDR: inf\n",
      "\n"
     ]
    },
    {
     "name": "stderr",
     "output_type": "stream",
     "text": [
      "C:\\Users\\saira\\anaconda3\\Lib\\site-packages\\sklearn\\cluster\\_kmeans.py:870: FutureWarning: The default value of `n_init` will change from 10 to 'auto' in 1.4. Set the value of `n_init` explicitly to suppress the warning\n",
      "  warnings.warn(\n"
     ]
    },
    {
     "name": "stdout",
     "output_type": "stream",
     "text": [
      "Unsupervised segmentation time: 0.8782098293304443 seconds\n",
      "\u001b[1m1/1\u001b[0m \u001b[32m━━━━━━━━━━━━━━━━━━━━\u001b[0m\u001b[37m\u001b[0m \u001b[1m0s\u001b[0m 248ms/step\n",
      "Supervised segmentation time: 0.31380653381347656 seconds\n",
      "Image 44:\n",
      "Unsupervised Segmentation - CDR: inf\n",
      "Supervised Segmentation - CDR: inf\n",
      "\n"
     ]
    },
    {
     "name": "stderr",
     "output_type": "stream",
     "text": [
      "C:\\Users\\saira\\anaconda3\\Lib\\site-packages\\sklearn\\cluster\\_kmeans.py:870: FutureWarning: The default value of `n_init` will change from 10 to 'auto' in 1.4. Set the value of `n_init` explicitly to suppress the warning\n",
      "  warnings.warn(\n"
     ]
    },
    {
     "name": "stdout",
     "output_type": "stream",
     "text": [
      "Unsupervised segmentation time: 0.8508665561676025 seconds\n",
      "\u001b[1m1/1\u001b[0m \u001b[32m━━━━━━━━━━━━━━━━━━━━\u001b[0m\u001b[37m\u001b[0m \u001b[1m0s\u001b[0m 294ms/step\n",
      "Supervised segmentation time: 0.3729403018951416 seconds\n",
      "Image 45:\n",
      "Unsupervised Segmentation - CDR: inf\n",
      "Supervised Segmentation - CDR: inf\n",
      "\n"
     ]
    },
    {
     "name": "stderr",
     "output_type": "stream",
     "text": [
      "C:\\Users\\saira\\anaconda3\\Lib\\site-packages\\sklearn\\cluster\\_kmeans.py:870: FutureWarning: The default value of `n_init` will change from 10 to 'auto' in 1.4. Set the value of `n_init` explicitly to suppress the warning\n",
      "  warnings.warn(\n"
     ]
    },
    {
     "name": "stdout",
     "output_type": "stream",
     "text": [
      "Unsupervised segmentation time: 0.8702218532562256 seconds\n",
      "\u001b[1m1/1\u001b[0m \u001b[32m━━━━━━━━━━━━━━━━━━━━\u001b[0m\u001b[37m\u001b[0m \u001b[1m0s\u001b[0m 270ms/step\n",
      "Supervised segmentation time: 0.33483004570007324 seconds\n",
      "Image 46:\n",
      "Unsupervised Segmentation - CDR: inf\n",
      "Supervised Segmentation - CDR: inf\n",
      "\n"
     ]
    },
    {
     "name": "stderr",
     "output_type": "stream",
     "text": [
      "C:\\Users\\saira\\anaconda3\\Lib\\site-packages\\sklearn\\cluster\\_kmeans.py:870: FutureWarning: The default value of `n_init` will change from 10 to 'auto' in 1.4. Set the value of `n_init` explicitly to suppress the warning\n",
      "  warnings.warn(\n"
     ]
    },
    {
     "name": "stdout",
     "output_type": "stream",
     "text": [
      "Unsupervised segmentation time: 0.8773555755615234 seconds\n",
      "\u001b[1m1/1\u001b[0m \u001b[32m━━━━━━━━━━━━━━━━━━━━\u001b[0m\u001b[37m\u001b[0m \u001b[1m0s\u001b[0m 250ms/step\n",
      "Supervised segmentation time: 0.3256800174713135 seconds\n",
      "Image 47:\n",
      "Unsupervised Segmentation - CDR: inf\n",
      "Supervised Segmentation - CDR: inf\n",
      "\n"
     ]
    },
    {
     "name": "stderr",
     "output_type": "stream",
     "text": [
      "C:\\Users\\saira\\anaconda3\\Lib\\site-packages\\sklearn\\cluster\\_kmeans.py:870: FutureWarning: The default value of `n_init` will change from 10 to 'auto' in 1.4. Set the value of `n_init` explicitly to suppress the warning\n",
      "  warnings.warn(\n"
     ]
    },
    {
     "name": "stdout",
     "output_type": "stream",
     "text": [
      "Unsupervised segmentation time: 0.8506088256835938 seconds\n",
      "\u001b[1m1/1\u001b[0m \u001b[32m━━━━━━━━━━━━━━━━━━━━\u001b[0m\u001b[37m\u001b[0m \u001b[1m0s\u001b[0m 211ms/step\n",
      "Supervised segmentation time: 0.28455638885498047 seconds\n",
      "Image 48:\n",
      "Unsupervised Segmentation - CDR: inf\n",
      "Supervised Segmentation - CDR: inf\n",
      "\n"
     ]
    },
    {
     "name": "stderr",
     "output_type": "stream",
     "text": [
      "C:\\Users\\saira\\anaconda3\\Lib\\site-packages\\sklearn\\cluster\\_kmeans.py:870: FutureWarning: The default value of `n_init` will change from 10 to 'auto' in 1.4. Set the value of `n_init` explicitly to suppress the warning\n",
      "  warnings.warn(\n"
     ]
    },
    {
     "name": "stdout",
     "output_type": "stream",
     "text": [
      "Unsupervised segmentation time: 0.8682560920715332 seconds\n",
      "\u001b[1m1/1\u001b[0m \u001b[32m━━━━━━━━━━━━━━━━━━━━\u001b[0m\u001b[37m\u001b[0m \u001b[1m0s\u001b[0m 226ms/step\n",
      "Supervised segmentation time: 0.2981760501861572 seconds\n",
      "Image 49:\n",
      "Unsupervised Segmentation - CDR: inf\n",
      "Supervised Segmentation - CDR: inf\n",
      "\n"
     ]
    },
    {
     "name": "stderr",
     "output_type": "stream",
     "text": [
      "C:\\Users\\saira\\anaconda3\\Lib\\site-packages\\sklearn\\cluster\\_kmeans.py:870: FutureWarning: The default value of `n_init` will change from 10 to 'auto' in 1.4. Set the value of `n_init` explicitly to suppress the warning\n",
      "  warnings.warn(\n"
     ]
    },
    {
     "name": "stdout",
     "output_type": "stream",
     "text": [
      "Unsupervised segmentation time: 0.844170093536377 seconds\n",
      "\u001b[1m1/1\u001b[0m \u001b[32m━━━━━━━━━━━━━━━━━━━━\u001b[0m\u001b[37m\u001b[0m \u001b[1m0s\u001b[0m 240ms/step\n",
      "Supervised segmentation time: 0.3063807487487793 seconds\n",
      "Image 50:\n",
      "Unsupervised Segmentation - CDR: inf\n",
      "Supervised Segmentation - CDR: inf\n",
      "\n"
     ]
    },
    {
     "name": "stderr",
     "output_type": "stream",
     "text": [
      "C:\\Users\\saira\\anaconda3\\Lib\\site-packages\\sklearn\\cluster\\_kmeans.py:870: FutureWarning: The default value of `n_init` will change from 10 to 'auto' in 1.4. Set the value of `n_init` explicitly to suppress the warning\n",
      "  warnings.warn(\n"
     ]
    },
    {
     "name": "stdout",
     "output_type": "stream",
     "text": [
      "Unsupervised segmentation time: 0.852546215057373 seconds\n",
      "\u001b[1m1/1\u001b[0m \u001b[32m━━━━━━━━━━━━━━━━━━━━\u001b[0m\u001b[37m\u001b[0m \u001b[1m0s\u001b[0m 221ms/step\n",
      "Supervised segmentation time: 0.2929983139038086 seconds\n",
      "Image 51:\n",
      "Unsupervised Segmentation - CDR: inf\n",
      "Supervised Segmentation - CDR: inf\n",
      "\n"
     ]
    },
    {
     "name": "stderr",
     "output_type": "stream",
     "text": [
      "C:\\Users\\saira\\anaconda3\\Lib\\site-packages\\sklearn\\cluster\\_kmeans.py:870: FutureWarning: The default value of `n_init` will change from 10 to 'auto' in 1.4. Set the value of `n_init` explicitly to suppress the warning\n",
      "  warnings.warn(\n"
     ]
    },
    {
     "name": "stdout",
     "output_type": "stream",
     "text": [
      "Unsupervised segmentation time: 0.8581187725067139 seconds\n",
      "\u001b[1m1/1\u001b[0m \u001b[32m━━━━━━━━━━━━━━━━━━━━\u001b[0m\u001b[37m\u001b[0m \u001b[1m0s\u001b[0m 226ms/step\n",
      "Supervised segmentation time: 0.29074907302856445 seconds\n",
      "Image 52:\n",
      "Unsupervised Segmentation - CDR: inf\n",
      "Supervised Segmentation - CDR: inf\n",
      "\n"
     ]
    },
    {
     "name": "stderr",
     "output_type": "stream",
     "text": [
      "C:\\Users\\saira\\anaconda3\\Lib\\site-packages\\sklearn\\cluster\\_kmeans.py:870: FutureWarning: The default value of `n_init` will change from 10 to 'auto' in 1.4. Set the value of `n_init` explicitly to suppress the warning\n",
      "  warnings.warn(\n"
     ]
    },
    {
     "name": "stdout",
     "output_type": "stream",
     "text": [
      "Unsupervised segmentation time: 0.856987476348877 seconds\n",
      "\u001b[1m1/1\u001b[0m \u001b[32m━━━━━━━━━━━━━━━━━━━━\u001b[0m\u001b[37m\u001b[0m \u001b[1m0s\u001b[0m 222ms/step\n",
      "Supervised segmentation time: 0.28870177268981934 seconds\n",
      "Image 53:\n",
      "Unsupervised Segmentation - CDR: inf\n",
      "Supervised Segmentation - CDR: inf\n",
      "\n"
     ]
    },
    {
     "name": "stderr",
     "output_type": "stream",
     "text": [
      "C:\\Users\\saira\\anaconda3\\Lib\\site-packages\\sklearn\\cluster\\_kmeans.py:870: FutureWarning: The default value of `n_init` will change from 10 to 'auto' in 1.4. Set the value of `n_init` explicitly to suppress the warning\n",
      "  warnings.warn(\n"
     ]
    },
    {
     "name": "stdout",
     "output_type": "stream",
     "text": [
      "Unsupervised segmentation time: 0.8846054077148438 seconds\n",
      "\u001b[1m1/1\u001b[0m \u001b[32m━━━━━━━━━━━━━━━━━━━━\u001b[0m\u001b[37m\u001b[0m \u001b[1m0s\u001b[0m 270ms/step\n",
      "Supervised segmentation time: 0.343827486038208 seconds\n",
      "Image 54:\n",
      "Unsupervised Segmentation - CDR: inf\n",
      "Supervised Segmentation - CDR: inf\n",
      "\n"
     ]
    },
    {
     "name": "stderr",
     "output_type": "stream",
     "text": [
      "C:\\Users\\saira\\anaconda3\\Lib\\site-packages\\sklearn\\cluster\\_kmeans.py:870: FutureWarning: The default value of `n_init` will change from 10 to 'auto' in 1.4. Set the value of `n_init` explicitly to suppress the warning\n",
      "  warnings.warn(\n"
     ]
    },
    {
     "name": "stdout",
     "output_type": "stream",
     "text": [
      "Unsupervised segmentation time: 0.8439640998840332 seconds\n",
      "\u001b[1m1/1\u001b[0m \u001b[32m━━━━━━━━━━━━━━━━━━━━\u001b[0m\u001b[37m\u001b[0m \u001b[1m0s\u001b[0m 238ms/step\n",
      "Supervised segmentation time: 0.3056049346923828 seconds\n",
      "Image 55:\n",
      "Unsupervised Segmentation - CDR: inf\n",
      "Supervised Segmentation - CDR: inf\n",
      "\n"
     ]
    },
    {
     "name": "stderr",
     "output_type": "stream",
     "text": [
      "C:\\Users\\saira\\anaconda3\\Lib\\site-packages\\sklearn\\cluster\\_kmeans.py:870: FutureWarning: The default value of `n_init` will change from 10 to 'auto' in 1.4. Set the value of `n_init` explicitly to suppress the warning\n",
      "  warnings.warn(\n"
     ]
    },
    {
     "name": "stdout",
     "output_type": "stream",
     "text": [
      "Unsupervised segmentation time: 0.8684067726135254 seconds\n",
      "\u001b[1m1/1\u001b[0m \u001b[32m━━━━━━━━━━━━━━━━━━━━\u001b[0m\u001b[37m\u001b[0m \u001b[1m0s\u001b[0m 225ms/step\n",
      "Supervised segmentation time: 0.28530192375183105 seconds\n",
      "Image 56:\n",
      "Unsupervised Segmentation - CDR: inf\n",
      "Supervised Segmentation - CDR: inf\n",
      "\n"
     ]
    },
    {
     "name": "stderr",
     "output_type": "stream",
     "text": [
      "C:\\Users\\saira\\anaconda3\\Lib\\site-packages\\sklearn\\cluster\\_kmeans.py:870: FutureWarning: The default value of `n_init` will change from 10 to 'auto' in 1.4. Set the value of `n_init` explicitly to suppress the warning\n",
      "  warnings.warn(\n"
     ]
    },
    {
     "name": "stdout",
     "output_type": "stream",
     "text": [
      "Unsupervised segmentation time: 0.8474025726318359 seconds\n",
      "\u001b[1m1/1\u001b[0m \u001b[32m━━━━━━━━━━━━━━━━━━━━\u001b[0m\u001b[37m\u001b[0m \u001b[1m0s\u001b[0m 243ms/step\n",
      "Supervised segmentation time: 0.3128690719604492 seconds\n",
      "Image 57:\n",
      "Unsupervised Segmentation - CDR: inf\n",
      "Supervised Segmentation - CDR: inf\n",
      "\n"
     ]
    },
    {
     "name": "stderr",
     "output_type": "stream",
     "text": [
      "C:\\Users\\saira\\anaconda3\\Lib\\site-packages\\sklearn\\cluster\\_kmeans.py:870: FutureWarning: The default value of `n_init` will change from 10 to 'auto' in 1.4. Set the value of `n_init` explicitly to suppress the warning\n",
      "  warnings.warn(\n"
     ]
    },
    {
     "name": "stdout",
     "output_type": "stream",
     "text": [
      "Unsupervised segmentation time: 0.8311257362365723 seconds\n",
      "\u001b[1m1/1\u001b[0m \u001b[32m━━━━━━━━━━━━━━━━━━━━\u001b[0m\u001b[37m\u001b[0m \u001b[1m0s\u001b[0m 210ms/step\n",
      "Supervised segmentation time: 0.27031660079956055 seconds\n",
      "Image 58:\n",
      "Unsupervised Segmentation - CDR: inf\n",
      "Supervised Segmentation - CDR: inf\n",
      "\n"
     ]
    },
    {
     "name": "stderr",
     "output_type": "stream",
     "text": [
      "C:\\Users\\saira\\anaconda3\\Lib\\site-packages\\sklearn\\cluster\\_kmeans.py:870: FutureWarning: The default value of `n_init` will change from 10 to 'auto' in 1.4. Set the value of `n_init` explicitly to suppress the warning\n",
      "  warnings.warn(\n"
     ]
    },
    {
     "name": "stdout",
     "output_type": "stream",
     "text": [
      "Unsupervised segmentation time: 0.8503060340881348 seconds\n",
      "\u001b[1m1/1\u001b[0m \u001b[32m━━━━━━━━━━━━━━━━━━━━\u001b[0m\u001b[37m\u001b[0m \u001b[1m0s\u001b[0m 260ms/step\n",
      "Supervised segmentation time: 0.3222167491912842 seconds\n",
      "Image 59:\n",
      "Unsupervised Segmentation - CDR: inf\n",
      "Supervised Segmentation - CDR: inf\n",
      "\n"
     ]
    },
    {
     "name": "stderr",
     "output_type": "stream",
     "text": [
      "C:\\Users\\saira\\anaconda3\\Lib\\site-packages\\sklearn\\cluster\\_kmeans.py:870: FutureWarning: The default value of `n_init` will change from 10 to 'auto' in 1.4. Set the value of `n_init` explicitly to suppress the warning\n",
      "  warnings.warn(\n"
     ]
    },
    {
     "name": "stdout",
     "output_type": "stream",
     "text": [
      "Unsupervised segmentation time: 0.8590142726898193 seconds\n",
      "\u001b[1m1/1\u001b[0m \u001b[32m━━━━━━━━━━━━━━━━━━━━\u001b[0m\u001b[37m\u001b[0m \u001b[1m0s\u001b[0m 217ms/step\n",
      "Supervised segmentation time: 0.2799825668334961 seconds\n",
      "Image 60:\n",
      "Unsupervised Segmentation - CDR: inf\n",
      "Supervised Segmentation - CDR: inf\n",
      "\n"
     ]
    },
    {
     "name": "stderr",
     "output_type": "stream",
     "text": [
      "C:\\Users\\saira\\anaconda3\\Lib\\site-packages\\sklearn\\cluster\\_kmeans.py:870: FutureWarning: The default value of `n_init` will change from 10 to 'auto' in 1.4. Set the value of `n_init` explicitly to suppress the warning\n",
      "  warnings.warn(\n"
     ]
    },
    {
     "name": "stdout",
     "output_type": "stream",
     "text": [
      "Unsupervised segmentation time: 0.858532190322876 seconds\n",
      "\u001b[1m1/1\u001b[0m \u001b[32m━━━━━━━━━━━━━━━━━━━━\u001b[0m\u001b[37m\u001b[0m \u001b[1m0s\u001b[0m 230ms/step\n",
      "Supervised segmentation time: 0.2944059371948242 seconds\n",
      "Image 61:\n",
      "Unsupervised Segmentation - CDR: inf\n",
      "Supervised Segmentation - CDR: inf\n",
      "\n"
     ]
    },
    {
     "name": "stderr",
     "output_type": "stream",
     "text": [
      "C:\\Users\\saira\\anaconda3\\Lib\\site-packages\\sklearn\\cluster\\_kmeans.py:870: FutureWarning: The default value of `n_init` will change from 10 to 'auto' in 1.4. Set the value of `n_init` explicitly to suppress the warning\n",
      "  warnings.warn(\n"
     ]
    },
    {
     "name": "stdout",
     "output_type": "stream",
     "text": [
      "Unsupervised segmentation time: 0.8526031970977783 seconds\n",
      "\u001b[1m1/1\u001b[0m \u001b[32m━━━━━━━━━━━━━━━━━━━━\u001b[0m\u001b[37m\u001b[0m \u001b[1m0s\u001b[0m 210ms/step\n",
      "Supervised segmentation time: 0.29129576683044434 seconds\n",
      "Image 62:\n",
      "Unsupervised Segmentation - CDR: inf\n",
      "Supervised Segmentation - CDR: inf\n",
      "\n"
     ]
    },
    {
     "name": "stderr",
     "output_type": "stream",
     "text": [
      "C:\\Users\\saira\\anaconda3\\Lib\\site-packages\\sklearn\\cluster\\_kmeans.py:870: FutureWarning: The default value of `n_init` will change from 10 to 'auto' in 1.4. Set the value of `n_init` explicitly to suppress the warning\n",
      "  warnings.warn(\n"
     ]
    },
    {
     "name": "stdout",
     "output_type": "stream",
     "text": [
      "Unsupervised segmentation time: 0.8566110134124756 seconds\n",
      "\u001b[1m1/1\u001b[0m \u001b[32m━━━━━━━━━━━━━━━━━━━━\u001b[0m\u001b[37m\u001b[0m \u001b[1m0s\u001b[0m 210ms/step\n",
      "Supervised segmentation time: 0.2800486087799072 seconds\n",
      "Image 63:\n",
      "Unsupervised Segmentation - CDR: inf\n",
      "Supervised Segmentation - CDR: inf\n",
      "\n"
     ]
    },
    {
     "name": "stderr",
     "output_type": "stream",
     "text": [
      "C:\\Users\\saira\\anaconda3\\Lib\\site-packages\\sklearn\\cluster\\_kmeans.py:870: FutureWarning: The default value of `n_init` will change from 10 to 'auto' in 1.4. Set the value of `n_init` explicitly to suppress the warning\n",
      "  warnings.warn(\n"
     ]
    },
    {
     "name": "stdout",
     "output_type": "stream",
     "text": [
      "Unsupervised segmentation time: 0.8529558181762695 seconds\n",
      "\u001b[1m1/1\u001b[0m \u001b[32m━━━━━━━━━━━━━━━━━━━━\u001b[0m\u001b[37m\u001b[0m \u001b[1m0s\u001b[0m 238ms/step\n",
      "Supervised segmentation time: 0.2981090545654297 seconds\n",
      "Image 64:\n",
      "Unsupervised Segmentation - CDR: inf\n",
      "Supervised Segmentation - CDR: inf\n",
      "\n"
     ]
    },
    {
     "name": "stderr",
     "output_type": "stream",
     "text": [
      "C:\\Users\\saira\\anaconda3\\Lib\\site-packages\\sklearn\\cluster\\_kmeans.py:870: FutureWarning: The default value of `n_init` will change from 10 to 'auto' in 1.4. Set the value of `n_init` explicitly to suppress the warning\n",
      "  warnings.warn(\n"
     ]
    },
    {
     "name": "stdout",
     "output_type": "stream",
     "text": [
      "Unsupervised segmentation time: 0.8297266960144043 seconds\n",
      "\u001b[1m1/1\u001b[0m \u001b[32m━━━━━━━━━━━━━━━━━━━━\u001b[0m\u001b[37m\u001b[0m \u001b[1m0s\u001b[0m 209ms/step\n",
      "Supervised segmentation time: 0.273662805557251 seconds\n",
      "Image 65:\n",
      "Unsupervised Segmentation - CDR: inf\n",
      "Supervised Segmentation - CDR: inf\n",
      "\n"
     ]
    },
    {
     "name": "stderr",
     "output_type": "stream",
     "text": [
      "C:\\Users\\saira\\anaconda3\\Lib\\site-packages\\sklearn\\cluster\\_kmeans.py:870: FutureWarning: The default value of `n_init` will change from 10 to 'auto' in 1.4. Set the value of `n_init` explicitly to suppress the warning\n",
      "  warnings.warn(\n"
     ]
    },
    {
     "name": "stdout",
     "output_type": "stream",
     "text": [
      "Unsupervised segmentation time: 0.8387637138366699 seconds\n",
      "\u001b[1m1/1\u001b[0m \u001b[32m━━━━━━━━━━━━━━━━━━━━\u001b[0m\u001b[37m\u001b[0m \u001b[1m0s\u001b[0m 239ms/step\n",
      "Supervised segmentation time: 0.3004140853881836 seconds\n",
      "Image 66:\n",
      "Unsupervised Segmentation - CDR: inf\n",
      "Supervised Segmentation - CDR: inf\n",
      "\n"
     ]
    },
    {
     "name": "stderr",
     "output_type": "stream",
     "text": [
      "C:\\Users\\saira\\anaconda3\\Lib\\site-packages\\sklearn\\cluster\\_kmeans.py:870: FutureWarning: The default value of `n_init` will change from 10 to 'auto' in 1.4. Set the value of `n_init` explicitly to suppress the warning\n",
      "  warnings.warn(\n"
     ]
    },
    {
     "name": "stdout",
     "output_type": "stream",
     "text": [
      "Unsupervised segmentation time: 0.852834939956665 seconds\n",
      "\u001b[1m1/1\u001b[0m \u001b[32m━━━━━━━━━━━━━━━━━━━━\u001b[0m\u001b[37m\u001b[0m \u001b[1m0s\u001b[0m 247ms/step\n",
      "Supervised segmentation time: 0.3167550563812256 seconds\n",
      "Image 67:\n",
      "Unsupervised Segmentation - CDR: inf\n",
      "Supervised Segmentation - CDR: inf\n",
      "\n"
     ]
    },
    {
     "name": "stderr",
     "output_type": "stream",
     "text": [
      "C:\\Users\\saira\\anaconda3\\Lib\\site-packages\\sklearn\\cluster\\_kmeans.py:870: FutureWarning: The default value of `n_init` will change from 10 to 'auto' in 1.4. Set the value of `n_init` explicitly to suppress the warning\n",
      "  warnings.warn(\n"
     ]
    },
    {
     "name": "stdout",
     "output_type": "stream",
     "text": [
      "Unsupervised segmentation time: 0.8785998821258545 seconds\n",
      "\u001b[1m1/1\u001b[0m \u001b[32m━━━━━━━━━━━━━━━━━━━━\u001b[0m\u001b[37m\u001b[0m \u001b[1m0s\u001b[0m 225ms/step\n",
      "Supervised segmentation time: 0.28649234771728516 seconds\n",
      "Image 68:\n",
      "Unsupervised Segmentation - CDR: inf\n",
      "Supervised Segmentation - CDR: inf\n",
      "\n"
     ]
    },
    {
     "name": "stderr",
     "output_type": "stream",
     "text": [
      "C:\\Users\\saira\\anaconda3\\Lib\\site-packages\\sklearn\\cluster\\_kmeans.py:870: FutureWarning: The default value of `n_init` will change from 10 to 'auto' in 1.4. Set the value of `n_init` explicitly to suppress the warning\n",
      "  warnings.warn(\n"
     ]
    },
    {
     "name": "stdout",
     "output_type": "stream",
     "text": [
      "Unsupervised segmentation time: 0.847200870513916 seconds\n",
      "\u001b[1m1/1\u001b[0m \u001b[32m━━━━━━━━━━━━━━━━━━━━\u001b[0m\u001b[37m\u001b[0m \u001b[1m0s\u001b[0m 220ms/step\n",
      "Supervised segmentation time: 0.2842996120452881 seconds\n",
      "Image 69:\n",
      "Unsupervised Segmentation - CDR: inf\n",
      "Supervised Segmentation - CDR: inf\n",
      "\n"
     ]
    },
    {
     "name": "stderr",
     "output_type": "stream",
     "text": [
      "C:\\Users\\saira\\anaconda3\\Lib\\site-packages\\sklearn\\cluster\\_kmeans.py:870: FutureWarning: The default value of `n_init` will change from 10 to 'auto' in 1.4. Set the value of `n_init` explicitly to suppress the warning\n",
      "  warnings.warn(\n"
     ]
    },
    {
     "name": "stdout",
     "output_type": "stream",
     "text": [
      "Unsupervised segmentation time: 0.8675932884216309 seconds\n",
      "\u001b[1m1/1\u001b[0m \u001b[32m━━━━━━━━━━━━━━━━━━━━\u001b[0m\u001b[37m\u001b[0m \u001b[1m0s\u001b[0m 225ms/step\n",
      "Supervised segmentation time: 0.29601192474365234 seconds\n",
      "Image 70:\n",
      "Unsupervised Segmentation - CDR: inf\n",
      "Supervised Segmentation - CDR: inf\n",
      "\n"
     ]
    },
    {
     "name": "stderr",
     "output_type": "stream",
     "text": [
      "C:\\Users\\saira\\anaconda3\\Lib\\site-packages\\sklearn\\cluster\\_kmeans.py:870: FutureWarning: The default value of `n_init` will change from 10 to 'auto' in 1.4. Set the value of `n_init` explicitly to suppress the warning\n",
      "  warnings.warn(\n"
     ]
    },
    {
     "name": "stdout",
     "output_type": "stream",
     "text": [
      "Unsupervised segmentation time: 0.844916820526123 seconds\n",
      "\u001b[1m1/1\u001b[0m \u001b[32m━━━━━━━━━━━━━━━━━━━━\u001b[0m\u001b[37m\u001b[0m \u001b[1m0s\u001b[0m 220ms/step\n",
      "Supervised segmentation time: 0.28835439682006836 seconds\n",
      "Image 71:\n",
      "Unsupervised Segmentation - CDR: inf\n",
      "Supervised Segmentation - CDR: inf\n",
      "\n"
     ]
    },
    {
     "name": "stderr",
     "output_type": "stream",
     "text": [
      "C:\\Users\\saira\\anaconda3\\Lib\\site-packages\\sklearn\\cluster\\_kmeans.py:870: FutureWarning: The default value of `n_init` will change from 10 to 'auto' in 1.4. Set the value of `n_init` explicitly to suppress the warning\n",
      "  warnings.warn(\n"
     ]
    },
    {
     "name": "stdout",
     "output_type": "stream",
     "text": [
      "Unsupervised segmentation time: 0.8532121181488037 seconds\n",
      "\u001b[1m1/1\u001b[0m \u001b[32m━━━━━━━━━━━━━━━━━━━━\u001b[0m\u001b[37m\u001b[0m \u001b[1m0s\u001b[0m 215ms/step\n",
      "Supervised segmentation time: 0.280407190322876 seconds\n",
      "Image 72:\n",
      "Unsupervised Segmentation - CDR: inf\n",
      "Supervised Segmentation - CDR: inf\n",
      "\n"
     ]
    },
    {
     "name": "stderr",
     "output_type": "stream",
     "text": [
      "C:\\Users\\saira\\anaconda3\\Lib\\site-packages\\sklearn\\cluster\\_kmeans.py:870: FutureWarning: The default value of `n_init` will change from 10 to 'auto' in 1.4. Set the value of `n_init` explicitly to suppress the warning\n",
      "  warnings.warn(\n"
     ]
    },
    {
     "name": "stdout",
     "output_type": "stream",
     "text": [
      "Unsupervised segmentation time: 0.8557000160217285 seconds\n",
      "\u001b[1m1/1\u001b[0m \u001b[32m━━━━━━━━━━━━━━━━━━━━\u001b[0m\u001b[37m\u001b[0m \u001b[1m0s\u001b[0m 223ms/step\n",
      "Supervised segmentation time: 0.29070472717285156 seconds\n",
      "Image 73:\n",
      "Unsupervised Segmentation - CDR: inf\n",
      "Supervised Segmentation - CDR: inf\n",
      "\n"
     ]
    },
    {
     "name": "stderr",
     "output_type": "stream",
     "text": [
      "C:\\Users\\saira\\anaconda3\\Lib\\site-packages\\sklearn\\cluster\\_kmeans.py:870: FutureWarning: The default value of `n_init` will change from 10 to 'auto' in 1.4. Set the value of `n_init` explicitly to suppress the warning\n",
      "  warnings.warn(\n"
     ]
    },
    {
     "name": "stdout",
     "output_type": "stream",
     "text": [
      "Unsupervised segmentation time: 0.8636472225189209 seconds\n",
      "\u001b[1m1/1\u001b[0m \u001b[32m━━━━━━━━━━━━━━━━━━━━\u001b[0m\u001b[37m\u001b[0m \u001b[1m0s\u001b[0m 210ms/step\n",
      "Supervised segmentation time: 0.27864956855773926 seconds\n",
      "Image 74:\n",
      "Unsupervised Segmentation - CDR: inf\n",
      "Supervised Segmentation - CDR: inf\n",
      "\n"
     ]
    },
    {
     "name": "stderr",
     "output_type": "stream",
     "text": [
      "C:\\Users\\saira\\anaconda3\\Lib\\site-packages\\sklearn\\cluster\\_kmeans.py:870: FutureWarning: The default value of `n_init` will change from 10 to 'auto' in 1.4. Set the value of `n_init` explicitly to suppress the warning\n",
      "  warnings.warn(\n"
     ]
    },
    {
     "name": "stdout",
     "output_type": "stream",
     "text": [
      "Unsupervised segmentation time: 0.868929386138916 seconds\n",
      "\u001b[1m1/1\u001b[0m \u001b[32m━━━━━━━━━━━━━━━━━━━━\u001b[0m\u001b[37m\u001b[0m \u001b[1m0s\u001b[0m 227ms/step\n",
      "Supervised segmentation time: 0.29431676864624023 seconds\n",
      "Image 75:\n",
      "Unsupervised Segmentation - CDR: inf\n",
      "Supervised Segmentation - CDR: inf\n",
      "\n"
     ]
    },
    {
     "name": "stderr",
     "output_type": "stream",
     "text": [
      "C:\\Users\\saira\\anaconda3\\Lib\\site-packages\\sklearn\\cluster\\_kmeans.py:870: FutureWarning: The default value of `n_init` will change from 10 to 'auto' in 1.4. Set the value of `n_init` explicitly to suppress the warning\n",
      "  warnings.warn(\n"
     ]
    },
    {
     "name": "stdout",
     "output_type": "stream",
     "text": [
      "Unsupervised segmentation time: 0.8413209915161133 seconds\n",
      "\u001b[1m1/1\u001b[0m \u001b[32m━━━━━━━━━━━━━━━━━━━━\u001b[0m\u001b[37m\u001b[0m \u001b[1m0s\u001b[0m 207ms/step\n",
      "Supervised segmentation time: 0.27841901779174805 seconds\n",
      "Image 76:\n",
      "Unsupervised Segmentation - CDR: inf\n",
      "Supervised Segmentation - CDR: inf\n",
      "\n"
     ]
    },
    {
     "name": "stderr",
     "output_type": "stream",
     "text": [
      "C:\\Users\\saira\\anaconda3\\Lib\\site-packages\\sklearn\\cluster\\_kmeans.py:870: FutureWarning: The default value of `n_init` will change from 10 to 'auto' in 1.4. Set the value of `n_init` explicitly to suppress the warning\n",
      "  warnings.warn(\n"
     ]
    },
    {
     "name": "stdout",
     "output_type": "stream",
     "text": [
      "Unsupervised segmentation time: 0.8903474807739258 seconds\n",
      "\u001b[1m1/1\u001b[0m \u001b[32m━━━━━━━━━━━━━━━━━━━━\u001b[0m\u001b[37m\u001b[0m \u001b[1m0s\u001b[0m 225ms/step\n",
      "Supervised segmentation time: 0.28881406784057617 seconds\n",
      "Image 77:\n",
      "Unsupervised Segmentation - CDR: inf\n",
      "Supervised Segmentation - CDR: inf\n",
      "\n"
     ]
    },
    {
     "name": "stderr",
     "output_type": "stream",
     "text": [
      "C:\\Users\\saira\\anaconda3\\Lib\\site-packages\\sklearn\\cluster\\_kmeans.py:870: FutureWarning: The default value of `n_init` will change from 10 to 'auto' in 1.4. Set the value of `n_init` explicitly to suppress the warning\n",
      "  warnings.warn(\n"
     ]
    },
    {
     "name": "stdout",
     "output_type": "stream",
     "text": [
      "Unsupervised segmentation time: 0.8430116176605225 seconds\n",
      "\u001b[1m1/1\u001b[0m \u001b[32m━━━━━━━━━━━━━━━━━━━━\u001b[0m\u001b[37m\u001b[0m \u001b[1m0s\u001b[0m 220ms/step\n",
      "Supervised segmentation time: 0.2951951026916504 seconds\n",
      "Image 78:\n",
      "Unsupervised Segmentation - CDR: inf\n",
      "Supervised Segmentation - CDR: inf\n",
      "\n"
     ]
    },
    {
     "name": "stderr",
     "output_type": "stream",
     "text": [
      "C:\\Users\\saira\\anaconda3\\Lib\\site-packages\\sklearn\\cluster\\_kmeans.py:870: FutureWarning: The default value of `n_init` will change from 10 to 'auto' in 1.4. Set the value of `n_init` explicitly to suppress the warning\n",
      "  warnings.warn(\n"
     ]
    },
    {
     "name": "stdout",
     "output_type": "stream",
     "text": [
      "Unsupervised segmentation time: 0.8441104888916016 seconds\n",
      "\u001b[1m1/1\u001b[0m \u001b[32m━━━━━━━━━━━━━━━━━━━━\u001b[0m\u001b[37m\u001b[0m \u001b[1m0s\u001b[0m 223ms/step\n",
      "Supervised segmentation time: 0.29225945472717285 seconds\n",
      "Image 79:\n",
      "Unsupervised Segmentation - CDR: inf\n",
      "Supervised Segmentation - CDR: inf\n",
      "\n"
     ]
    },
    {
     "name": "stderr",
     "output_type": "stream",
     "text": [
      "C:\\Users\\saira\\anaconda3\\Lib\\site-packages\\sklearn\\cluster\\_kmeans.py:870: FutureWarning: The default value of `n_init` will change from 10 to 'auto' in 1.4. Set the value of `n_init` explicitly to suppress the warning\n",
      "  warnings.warn(\n"
     ]
    },
    {
     "name": "stdout",
     "output_type": "stream",
     "text": [
      "Unsupervised segmentation time: 0.8493399620056152 seconds\n",
      "\u001b[1m1/1\u001b[0m \u001b[32m━━━━━━━━━━━━━━━━━━━━\u001b[0m\u001b[37m\u001b[0m \u001b[1m0s\u001b[0m 218ms/step\n",
      "Supervised segmentation time: 0.28220367431640625 seconds\n",
      "Image 80:\n",
      "Unsupervised Segmentation - CDR: inf\n",
      "Supervised Segmentation - CDR: inf\n",
      "\n"
     ]
    },
    {
     "name": "stderr",
     "output_type": "stream",
     "text": [
      "C:\\Users\\saira\\anaconda3\\Lib\\site-packages\\sklearn\\cluster\\_kmeans.py:870: FutureWarning: The default value of `n_init` will change from 10 to 'auto' in 1.4. Set the value of `n_init` explicitly to suppress the warning\n",
      "  warnings.warn(\n"
     ]
    },
    {
     "name": "stdout",
     "output_type": "stream",
     "text": [
      "Unsupervised segmentation time: 0.8484523296356201 seconds\n",
      "\u001b[1m1/1\u001b[0m \u001b[32m━━━━━━━━━━━━━━━━━━━━\u001b[0m\u001b[37m\u001b[0m \u001b[1m0s\u001b[0m 230ms/step\n",
      "Supervised segmentation time: 0.29274606704711914 seconds\n",
      "Image 81:\n",
      "Unsupervised Segmentation - CDR: inf\n",
      "Supervised Segmentation - CDR: inf\n",
      "\n"
     ]
    },
    {
     "name": "stderr",
     "output_type": "stream",
     "text": [
      "C:\\Users\\saira\\anaconda3\\Lib\\site-packages\\sklearn\\cluster\\_kmeans.py:870: FutureWarning: The default value of `n_init` will change from 10 to 'auto' in 1.4. Set the value of `n_init` explicitly to suppress the warning\n",
      "  warnings.warn(\n"
     ]
    },
    {
     "name": "stdout",
     "output_type": "stream",
     "text": [
      "Unsupervised segmentation time: 0.8698146343231201 seconds\n",
      "\u001b[1m1/1\u001b[0m \u001b[32m━━━━━━━━━━━━━━━━━━━━\u001b[0m\u001b[37m\u001b[0m \u001b[1m0s\u001b[0m 237ms/step\n",
      "Supervised segmentation time: 0.30440831184387207 seconds\n",
      "Image 82:\n",
      "Unsupervised Segmentation - CDR: inf\n",
      "Supervised Segmentation - CDR: inf\n",
      "\n"
     ]
    },
    {
     "name": "stderr",
     "output_type": "stream",
     "text": [
      "C:\\Users\\saira\\anaconda3\\Lib\\site-packages\\sklearn\\cluster\\_kmeans.py:870: FutureWarning: The default value of `n_init` will change from 10 to 'auto' in 1.4. Set the value of `n_init` explicitly to suppress the warning\n",
      "  warnings.warn(\n"
     ]
    },
    {
     "name": "stdout",
     "output_type": "stream",
     "text": [
      "Unsupervised segmentation time: 0.8698465824127197 seconds\n",
      "\u001b[1m1/1\u001b[0m \u001b[32m━━━━━━━━━━━━━━━━━━━━\u001b[0m\u001b[37m\u001b[0m \u001b[1m0s\u001b[0m 256ms/step\n",
      "Supervised segmentation time: 0.32317471504211426 seconds\n",
      "Image 83:\n",
      "Unsupervised Segmentation - CDR: inf\n",
      "Supervised Segmentation - CDR: inf\n",
      "\n"
     ]
    },
    {
     "name": "stderr",
     "output_type": "stream",
     "text": [
      "C:\\Users\\saira\\anaconda3\\Lib\\site-packages\\sklearn\\cluster\\_kmeans.py:870: FutureWarning: The default value of `n_init` will change from 10 to 'auto' in 1.4. Set the value of `n_init` explicitly to suppress the warning\n",
      "  warnings.warn(\n"
     ]
    },
    {
     "name": "stdout",
     "output_type": "stream",
     "text": [
      "Unsupervised segmentation time: 0.9179596900939941 seconds\n",
      "\u001b[1m1/1\u001b[0m \u001b[32m━━━━━━━━━━━━━━━━━━━━\u001b[0m\u001b[37m\u001b[0m \u001b[1m0s\u001b[0m 245ms/step\n",
      "Supervised segmentation time: 0.3275432586669922 seconds\n",
      "Image 84:\n",
      "Unsupervised Segmentation - CDR: inf\n",
      "Supervised Segmentation - CDR: inf\n",
      "\n"
     ]
    },
    {
     "name": "stderr",
     "output_type": "stream",
     "text": [
      "C:\\Users\\saira\\anaconda3\\Lib\\site-packages\\sklearn\\cluster\\_kmeans.py:870: FutureWarning: The default value of `n_init` will change from 10 to 'auto' in 1.4. Set the value of `n_init` explicitly to suppress the warning\n",
      "  warnings.warn(\n"
     ]
    },
    {
     "name": "stdout",
     "output_type": "stream",
     "text": [
      "Unsupervised segmentation time: 0.8911216259002686 seconds\n",
      "\u001b[1m1/1\u001b[0m \u001b[32m━━━━━━━━━━━━━━━━━━━━\u001b[0m\u001b[37m\u001b[0m \u001b[1m0s\u001b[0m 242ms/step\n",
      "Supervised segmentation time: 0.3289616107940674 seconds\n",
      "Image 85:\n",
      "Unsupervised Segmentation - CDR: inf\n",
      "Supervised Segmentation - CDR: inf\n",
      "\n"
     ]
    },
    {
     "name": "stderr",
     "output_type": "stream",
     "text": [
      "C:\\Users\\saira\\anaconda3\\Lib\\site-packages\\sklearn\\cluster\\_kmeans.py:870: FutureWarning: The default value of `n_init` will change from 10 to 'auto' in 1.4. Set the value of `n_init` explicitly to suppress the warning\n",
      "  warnings.warn(\n"
     ]
    },
    {
     "name": "stdout",
     "output_type": "stream",
     "text": [
      "Unsupervised segmentation time: 0.8624956607818604 seconds\n",
      "\u001b[1m1/1\u001b[0m \u001b[32m━━━━━━━━━━━━━━━━━━━━\u001b[0m\u001b[37m\u001b[0m \u001b[1m0s\u001b[0m 260ms/step\n",
      "Supervised segmentation time: 0.3322103023529053 seconds\n",
      "Image 86:\n",
      "Unsupervised Segmentation - CDR: inf\n",
      "Supervised Segmentation - CDR: inf\n",
      "\n"
     ]
    },
    {
     "name": "stderr",
     "output_type": "stream",
     "text": [
      "C:\\Users\\saira\\anaconda3\\Lib\\site-packages\\sklearn\\cluster\\_kmeans.py:870: FutureWarning: The default value of `n_init` will change from 10 to 'auto' in 1.4. Set the value of `n_init` explicitly to suppress the warning\n",
      "  warnings.warn(\n"
     ]
    },
    {
     "name": "stdout",
     "output_type": "stream",
     "text": [
      "Unsupervised segmentation time: 0.8532726764678955 seconds\n",
      "\u001b[1m1/1\u001b[0m \u001b[32m━━━━━━━━━━━━━━━━━━━━\u001b[0m\u001b[37m\u001b[0m \u001b[1m0s\u001b[0m 222ms/step\n",
      "Supervised segmentation time: 0.28441882133483887 seconds\n",
      "Image 87:\n",
      "Unsupervised Segmentation - CDR: inf\n",
      "Supervised Segmentation - CDR: inf\n",
      "\n"
     ]
    },
    {
     "name": "stderr",
     "output_type": "stream",
     "text": [
      "C:\\Users\\saira\\anaconda3\\Lib\\site-packages\\sklearn\\cluster\\_kmeans.py:870: FutureWarning: The default value of `n_init` will change from 10 to 'auto' in 1.4. Set the value of `n_init` explicitly to suppress the warning\n",
      "  warnings.warn(\n"
     ]
    },
    {
     "name": "stdout",
     "output_type": "stream",
     "text": [
      "Unsupervised segmentation time: 0.8734986782073975 seconds\n",
      "\u001b[1m1/1\u001b[0m \u001b[32m━━━━━━━━━━━━━━━━━━━━\u001b[0m\u001b[37m\u001b[0m \u001b[1m0s\u001b[0m 215ms/step\n",
      "Supervised segmentation time: 0.2883000373840332 seconds\n",
      "Image 88:\n",
      "Unsupervised Segmentation - CDR: inf\n",
      "Supervised Segmentation - CDR: inf\n",
      "\n"
     ]
    },
    {
     "name": "stderr",
     "output_type": "stream",
     "text": [
      "C:\\Users\\saira\\anaconda3\\Lib\\site-packages\\sklearn\\cluster\\_kmeans.py:870: FutureWarning: The default value of `n_init` will change from 10 to 'auto' in 1.4. Set the value of `n_init` explicitly to suppress the warning\n",
      "  warnings.warn(\n"
     ]
    },
    {
     "name": "stdout",
     "output_type": "stream",
     "text": [
      "Unsupervised segmentation time: 0.8520207405090332 seconds\n",
      "\u001b[1m1/1\u001b[0m \u001b[32m━━━━━━━━━━━━━━━━━━━━\u001b[0m\u001b[37m\u001b[0m \u001b[1m0s\u001b[0m 226ms/step\n",
      "Supervised segmentation time: 0.2896914482116699 seconds\n",
      "Image 89:\n",
      "Unsupervised Segmentation - CDR: inf\n",
      "Supervised Segmentation - CDR: inf\n",
      "\n"
     ]
    },
    {
     "name": "stderr",
     "output_type": "stream",
     "text": [
      "C:\\Users\\saira\\anaconda3\\Lib\\site-packages\\sklearn\\cluster\\_kmeans.py:870: FutureWarning: The default value of `n_init` will change from 10 to 'auto' in 1.4. Set the value of `n_init` explicitly to suppress the warning\n",
      "  warnings.warn(\n"
     ]
    },
    {
     "name": "stdout",
     "output_type": "stream",
     "text": [
      "Unsupervised segmentation time: 0.8559901714324951 seconds\n",
      "\u001b[1m1/1\u001b[0m \u001b[32m━━━━━━━━━━━━━━━━━━━━\u001b[0m\u001b[37m\u001b[0m \u001b[1m0s\u001b[0m 220ms/step\n",
      "Supervised segmentation time: 0.28874945640563965 seconds\n",
      "Image 90:\n",
      "Unsupervised Segmentation - CDR: inf\n",
      "Supervised Segmentation - CDR: inf\n",
      "\n"
     ]
    },
    {
     "name": "stderr",
     "output_type": "stream",
     "text": [
      "C:\\Users\\saira\\anaconda3\\Lib\\site-packages\\sklearn\\cluster\\_kmeans.py:870: FutureWarning: The default value of `n_init` will change from 10 to 'auto' in 1.4. Set the value of `n_init` explicitly to suppress the warning\n",
      "  warnings.warn(\n"
     ]
    },
    {
     "name": "stdout",
     "output_type": "stream",
     "text": [
      "Unsupervised segmentation time: 0.8459455966949463 seconds\n",
      "\u001b[1m1/1\u001b[0m \u001b[32m━━━━━━━━━━━━━━━━━━━━\u001b[0m\u001b[37m\u001b[0m \u001b[1m0s\u001b[0m 212ms/step\n",
      "Supervised segmentation time: 0.2712430953979492 seconds\n",
      "Image 91:\n",
      "Unsupervised Segmentation - CDR: inf\n",
      "Supervised Segmentation - CDR: inf\n",
      "\n"
     ]
    },
    {
     "name": "stderr",
     "output_type": "stream",
     "text": [
      "C:\\Users\\saira\\anaconda3\\Lib\\site-packages\\sklearn\\cluster\\_kmeans.py:870: FutureWarning: The default value of `n_init` will change from 10 to 'auto' in 1.4. Set the value of `n_init` explicitly to suppress the warning\n",
      "  warnings.warn(\n"
     ]
    },
    {
     "name": "stdout",
     "output_type": "stream",
     "text": [
      "Unsupervised segmentation time: 0.8668029308319092 seconds\n",
      "\u001b[1m1/1\u001b[0m \u001b[32m━━━━━━━━━━━━━━━━━━━━\u001b[0m\u001b[37m\u001b[0m \u001b[1m0s\u001b[0m 222ms/step\n",
      "Supervised segmentation time: 0.2881045341491699 seconds\n",
      "Image 92:\n",
      "Unsupervised Segmentation - CDR: inf\n",
      "Supervised Segmentation - CDR: inf\n",
      "\n"
     ]
    },
    {
     "name": "stderr",
     "output_type": "stream",
     "text": [
      "C:\\Users\\saira\\anaconda3\\Lib\\site-packages\\sklearn\\cluster\\_kmeans.py:870: FutureWarning: The default value of `n_init` will change from 10 to 'auto' in 1.4. Set the value of `n_init` explicitly to suppress the warning\n",
      "  warnings.warn(\n"
     ]
    },
    {
     "name": "stdout",
     "output_type": "stream",
     "text": [
      "Unsupervised segmentation time: 0.850583553314209 seconds\n",
      "\u001b[1m1/1\u001b[0m \u001b[32m━━━━━━━━━━━━━━━━━━━━\u001b[0m\u001b[37m\u001b[0m \u001b[1m0s\u001b[0m 215ms/step\n",
      "Supervised segmentation time: 0.28990650177001953 seconds\n",
      "Image 93:\n",
      "Unsupervised Segmentation - CDR: inf\n",
      "Supervised Segmentation - CDR: inf\n",
      "\n"
     ]
    },
    {
     "name": "stderr",
     "output_type": "stream",
     "text": [
      "C:\\Users\\saira\\anaconda3\\Lib\\site-packages\\sklearn\\cluster\\_kmeans.py:870: FutureWarning: The default value of `n_init` will change from 10 to 'auto' in 1.4. Set the value of `n_init` explicitly to suppress the warning\n",
      "  warnings.warn(\n"
     ]
    },
    {
     "name": "stdout",
     "output_type": "stream",
     "text": [
      "Unsupervised segmentation time: 0.8470606803894043 seconds\n",
      "\u001b[1m1/1\u001b[0m \u001b[32m━━━━━━━━━━━━━━━━━━━━\u001b[0m\u001b[37m\u001b[0m \u001b[1m0s\u001b[0m 213ms/step\n",
      "Supervised segmentation time: 0.27644872665405273 seconds\n",
      "Image 94:\n",
      "Unsupervised Segmentation - CDR: inf\n",
      "Supervised Segmentation - CDR: inf\n",
      "\n"
     ]
    },
    {
     "name": "stderr",
     "output_type": "stream",
     "text": [
      "C:\\Users\\saira\\anaconda3\\Lib\\site-packages\\sklearn\\cluster\\_kmeans.py:870: FutureWarning: The default value of `n_init` will change from 10 to 'auto' in 1.4. Set the value of `n_init` explicitly to suppress the warning\n",
      "  warnings.warn(\n"
     ]
    },
    {
     "name": "stdout",
     "output_type": "stream",
     "text": [
      "Unsupervised segmentation time: 0.9016244411468506 seconds\n",
      "\u001b[1m1/1\u001b[0m \u001b[32m━━━━━━━━━━━━━━━━━━━━\u001b[0m\u001b[37m\u001b[0m \u001b[1m0s\u001b[0m 273ms/step\n",
      "Supervised segmentation time: 0.3453216552734375 seconds\n",
      "Image 95:\n",
      "Unsupervised Segmentation - CDR: inf\n",
      "Supervised Segmentation - CDR: inf\n",
      "\n"
     ]
    },
    {
     "name": "stderr",
     "output_type": "stream",
     "text": [
      "C:\\Users\\saira\\anaconda3\\Lib\\site-packages\\sklearn\\cluster\\_kmeans.py:870: FutureWarning: The default value of `n_init` will change from 10 to 'auto' in 1.4. Set the value of `n_init` explicitly to suppress the warning\n",
      "  warnings.warn(\n"
     ]
    },
    {
     "name": "stdout",
     "output_type": "stream",
     "text": [
      "Unsupervised segmentation time: 0.8614578247070312 seconds\n",
      "\u001b[1m1/1\u001b[0m \u001b[32m━━━━━━━━━━━━━━━━━━━━\u001b[0m\u001b[37m\u001b[0m \u001b[1m0s\u001b[0m 281ms/step\n",
      "Supervised segmentation time: 0.369966983795166 seconds\n",
      "Image 96:\n",
      "Unsupervised Segmentation - CDR: inf\n",
      "Supervised Segmentation - CDR: inf\n",
      "\n"
     ]
    },
    {
     "name": "stderr",
     "output_type": "stream",
     "text": [
      "C:\\Users\\saira\\anaconda3\\Lib\\site-packages\\sklearn\\cluster\\_kmeans.py:870: FutureWarning: The default value of `n_init` will change from 10 to 'auto' in 1.4. Set the value of `n_init` explicitly to suppress the warning\n",
      "  warnings.warn(\n"
     ]
    },
    {
     "name": "stdout",
     "output_type": "stream",
     "text": [
      "Unsupervised segmentation time: 0.9307515621185303 seconds\n",
      "\u001b[1m1/1\u001b[0m \u001b[32m━━━━━━━━━━━━━━━━━━━━\u001b[0m\u001b[37m\u001b[0m \u001b[1m0s\u001b[0m 244ms/step\n",
      "Supervised segmentation time: 0.32654666900634766 seconds\n",
      "Image 97:\n",
      "Unsupervised Segmentation - CDR: inf\n",
      "Supervised Segmentation - CDR: inf\n",
      "\n"
     ]
    },
    {
     "name": "stderr",
     "output_type": "stream",
     "text": [
      "C:\\Users\\saira\\anaconda3\\Lib\\site-packages\\sklearn\\cluster\\_kmeans.py:870: FutureWarning: The default value of `n_init` will change from 10 to 'auto' in 1.4. Set the value of `n_init` explicitly to suppress the warning\n",
      "  warnings.warn(\n"
     ]
    },
    {
     "name": "stdout",
     "output_type": "stream",
     "text": [
      "Unsupervised segmentation time: 0.8550002574920654 seconds\n",
      "\u001b[1m1/1\u001b[0m \u001b[32m━━━━━━━━━━━━━━━━━━━━\u001b[0m\u001b[37m\u001b[0m \u001b[1m0s\u001b[0m 220ms/step\n",
      "Supervised segmentation time: 0.2799561023712158 seconds\n",
      "Image 98:\n",
      "Unsupervised Segmentation - CDR: inf\n",
      "Supervised Segmentation - CDR: inf\n",
      "\n"
     ]
    },
    {
     "name": "stderr",
     "output_type": "stream",
     "text": [
      "C:\\Users\\saira\\anaconda3\\Lib\\site-packages\\sklearn\\cluster\\_kmeans.py:870: FutureWarning: The default value of `n_init` will change from 10 to 'auto' in 1.4. Set the value of `n_init` explicitly to suppress the warning\n",
      "  warnings.warn(\n"
     ]
    },
    {
     "name": "stdout",
     "output_type": "stream",
     "text": [
      "Unsupervised segmentation time: 0.8898665904998779 seconds\n",
      "\u001b[1m1/1\u001b[0m \u001b[32m━━━━━━━━━━━━━━━━━━━━\u001b[0m\u001b[37m\u001b[0m \u001b[1m0s\u001b[0m 240ms/step\n",
      "Supervised segmentation time: 0.30504560470581055 seconds\n",
      "Image 99:\n",
      "Unsupervised Segmentation - CDR: inf\n",
      "Supervised Segmentation - CDR: inf\n",
      "\n"
     ]
    },
    {
     "name": "stderr",
     "output_type": "stream",
     "text": [
      "C:\\Users\\saira\\anaconda3\\Lib\\site-packages\\sklearn\\cluster\\_kmeans.py:870: FutureWarning: The default value of `n_init` will change from 10 to 'auto' in 1.4. Set the value of `n_init` explicitly to suppress the warning\n",
      "  warnings.warn(\n"
     ]
    },
    {
     "name": "stdout",
     "output_type": "stream",
     "text": [
      "Unsupervised segmentation time: 0.8552303314208984 seconds\n",
      "\u001b[1m1/1\u001b[0m \u001b[32m━━━━━━━━━━━━━━━━━━━━\u001b[0m\u001b[37m\u001b[0m \u001b[1m0s\u001b[0m 239ms/step\n",
      "Supervised segmentation time: 0.3065650463104248 seconds\n",
      "Image 100:\n",
      "Unsupervised Segmentation - CDR: inf\n",
      "Supervised Segmentation - CDR: inf\n",
      "\n"
     ]
    }
   ],
   "source": [
    "import os\n",
    "import cv2\n",
    "import numpy as np\n",
    "import time\n",
    "from sklearn.cluster import KMeans\n",
    "\n",
    "def load_and_preprocess_dataset(folder_path):\n",
    "    \"\"\"\n",
    "    Load and preprocess images and corresponding masks from the specified folder path.\n",
    "\n",
    "    Args:\n",
    "    - folder_path (str): Path to the folder containing image and mask files.\n",
    "\n",
    "    Returns:\n",
    "    - images (numpy.ndarray): Preprocessed images.\n",
    "    - masks (numpy.ndarray): Preprocessed masks.\n",
    "    \"\"\"\n",
    "    file_list = sorted(os.listdir(folder_path))\n",
    "    images = []\n",
    "    masks = []\n",
    "    \n",
    "    for file_name in file_list:\n",
    "        if file_name.endswith('.png'):\n",
    "            image_path = os.path.join(folder_path, file_name)\n",
    "            image = cv2.imread(image_path)\n",
    "            image = cv2.resize(image, (image_width, image_height))\n",
    "            image = image / 255.0\n",
    "            images.append(image)\n",
    "        \n",
    "        elif file_name.endswith('.tif'):\n",
    "            mask_path = os.path.join(folder_path, file_name)\n",
    "            mask = cv2.imread(mask_path, cv2.IMREAD_GRAYSCALE)\n",
    "            mask = cv2.resize(mask, (image_width, image_height))\n",
    "            _, mask = cv2.threshold(mask, 127, 255, cv2.THRESH_BINARY)\n",
    "            masks.append(mask)\n",
    "    \n",
    "    images = np.array(images)\n",
    "    masks = np.array(masks)\n",
    "    \n",
    "    return images, masks\n",
    "\n",
    "def outline_optic_disk(original_image, segmentation_mask):\n",
    "    \"\"\"\n",
    "    Outline the optic disk in the original image based on the segmentation mask.\n",
    "\n",
    "    Args:\n",
    "    - original_image (numpy.ndarray): Original fundus image.\n",
    "    - segmentation_mask (numpy.ndarray): Segmentation mask of the optic disk.\n",
    "\n",
    "    Returns:\n",
    "    - disk_outline (numpy.ndarray): Image with optic disk outline overlaid.\n",
    "    \"\"\"\n",
    "    segmentation_mask = segmentation_mask.astype(np.uint8)\n",
    "    contours, _ = cv2.findContours(segmentation_mask, cv2.RETR_EXTERNAL, cv2.CHAIN_APPROX_SIMPLE)\n",
    "    disk_outline = original_image.copy()\n",
    "\n",
    "    for contour in contours:\n",
    "        area = cv2.contourArea(contour)\n",
    "        if area > 50:\n",
    "            approx = cv2.approxPolyDP(contour, 0.01 * cv2.arcLength(contour, True), True)\n",
    "\n",
    "            if cv2.contourArea(approx) > 200:\n",
    "                cv2.drawContours(disk_outline, [approx], -1, (0, 0, 255), thickness=2)\n",
    "\n",
    "    return disk_outline\n",
    "\n",
    "def outline_optic_cup(original_image, segmentation_mask):\n",
    "    \"\"\"\n",
    "    Outline the optic cup in the original image based on the segmentation mask.\n",
    "\n",
    "    Args:\n",
    "    - original_image (numpy.ndarray): Original fundus image.\n",
    "    - segmentation_mask (numpy.ndarray): Segmentation mask of the optic cup.\n",
    "\n",
    "    Returns:\n",
    "    - cup_outline (numpy.ndarray): Image with optic cup outline overlaid.\n",
    "    \"\"\"\n",
    "    if segmentation_mask is None:\n",
    "        return original_image.copy()  # Return a copy of the original image if mask is None\n",
    "    \n",
    "    # Ensure segmentation_mask is of type numpy.ndarray\n",
    "    if not isinstance(segmentation_mask, np.ndarray):\n",
    "        raise ValueError(\"segmentation_mask must be a numpy.ndarray\")\n",
    "\n",
    "    # Convert segmentation_mask to uint8 format if necessary\n",
    "    if segmentation_mask.dtype != np.uint8:\n",
    "        segmentation_mask = segmentation_mask.astype(np.uint8)\n",
    "    \n",
    "    # Threshold the segmentation mask\n",
    "    _, binary_mask = cv2.threshold(segmentation_mask, 127, 255, cv2.THRESH_BINARY)\n",
    "    \n",
    "    # Find contours of the optic cup\n",
    "    contours, _ = cv2.findContours(binary_mask, cv2.RETR_EXTERNAL, cv2.CHAIN_APPROX_SIMPLE)\n",
    "    \n",
    "    # Create a copy of the original image for outlining\n",
    "    cup_outline = original_image.copy()\n",
    "\n",
    "    for contour in contours:\n",
    "        if cv2.contourArea(contour) > 50:  # Ignore small contours\n",
    "            cv2.drawContours(cup_outline, [contour], -1, (0, 255, 255), thickness=2)  # Yellow outline for cup\n",
    "\n",
    "    return cup_outline\n",
    "\n",
    "\n",
    "def calculate_cup_to_disk_ratio(segmentation_mask):\n",
    "    \"\"\"\n",
    "    Calculate the cup-to-disk ratio (CDR) based on the segmentation mask.\n",
    "\n",
    "    Args:\n",
    "    - segmentation_mask (numpy.ndarray): Segmentation mask of the optic disk and cup.\n",
    "\n",
    "    Returns:\n",
    "    - cdr (float): Cup-to-disk ratio.\n",
    "    \"\"\"\n",
    "    disk_area = np.sum(segmentation_mask == 128)\n",
    "    cup_area = np.sum(segmentation_mask == 255)\n",
    "    \n",
    "    if disk_area == 0:\n",
    "        return float('inf')\n",
    "    \n",
    "    cdr = cup_area / disk_area\n",
    "    return cdr\n",
    "\n",
    "def supervised_segmentation(image):\n",
    "    \"\"\"\n",
    "    Perform supervised segmentation using a pre-trained U-Net model.\n",
    "\n",
    "    Args:\n",
    "    - image (numpy.ndarray): Input fundus image.\n",
    "\n",
    "    Returns:\n",
    "    - segmentation_mask (numpy.ndarray): Segmentation mask.\n",
    "    \"\"\"\n",
    "    start_time = time.time()\n",
    "    \n",
    "    # Apply the pre-trained U-Net model for segmentation\n",
    "    segmentation_mask = model.predict(np.expand_dims(image, axis=0))[0]  # Assuming 'model' is your trained U-Net model\n",
    "    \n",
    "    end_time = time.time()\n",
    "    elapsed_time = end_time - start_time\n",
    "    \n",
    "    print(\"Supervised segmentation time:\", elapsed_time, \"seconds\")\n",
    "    \n",
    "    return segmentation_mask\n",
    "\n",
    "def perform_kmeans(image):\n",
    "    \"\"\"\n",
    "    Perform K-means clustering for unsupervised segmentation.\n",
    "\n",
    "    Args:\n",
    "    - image (numpy.ndarray): Input image.\n",
    "\n",
    "    Returns:\n",
    "    - segmentation_mask (numpy.ndarray): Segmentation mask.\n",
    "    \"\"\"\n",
    "    # Convert image to 1D array\n",
    "    image_flat = image.reshape(-1, 3)\n",
    "    \n",
    "    # Define the number of clusters (e.g., 2 for foreground/background)\n",
    "    num_clusters = 2\n",
    "    \n",
    "    # Initialize K-means clustering\n",
    "    kmeans = KMeans(n_clusters=num_clusters, random_state=0)\n",
    "    \n",
    "    # Fit K-means to the image data\n",
    "    kmeans.fit(image_flat)\n",
    "    \n",
    "    # Get cluster centers\n",
    "    cluster_centers = kmeans.cluster_centers_\n",
    "    \n",
    "    # Assign each pixel to the nearest cluster\n",
    "    labels = kmeans.predict(image_flat)\n",
    "    \n",
    "    # Reshape labels to image shape\n",
    "    segmentation_mask = labels.reshape(image.shape[:2])\n",
    "    \n",
    "    return segmentation_mask\n",
    "\n",
    "def unsupervised_segmentation(image):\n",
    "    \"\"\"\n",
    "    Perform unsupervised segmentation using K-means clustering.\n",
    "\n",
    "    Args:\n",
    "    - image (numpy.ndarray): Input image.\n",
    "\n",
    "    Returns:\n",
    "    - segmentation_mask (numpy.ndarray): Segmentation mask.\n",
    "    \"\"\"\n",
    "    start_time = time.time()\n",
    "    \n",
    "    # Apply K-means clustering for unsupervised segmentation\n",
    "    segmentation_mask = perform_kmeans(image)\n",
    "    \n",
    "    end_time = time.time()\n",
    "    elapsed_time = end_time - start_time\n",
    "    \n",
    "    print(\"Unsupervised segmentation time:\", elapsed_time, \"seconds\")\n",
    "    \n",
    "    return segmentation_mask\n",
    "\n",
    "# Load and preprocess test dataset\n",
    "data_folder = r\"C:\\Users\\saira\\OneDrive\\Desktop\\data_folder\"\n",
    "x_test, y_test = load_and_preprocess_dataset(os.path.join(data_folder, \"test\"))\n",
    "\n",
    "# Define image dimensions\n",
    "image_height = 256\n",
    "image_width = 256\n",
    "\n",
    "# Perform segmentation and evaluation\n",
    "for i in range(len(x_test)):\n",
    "    # Unsupervised segmentation\n",
    "    unsupervised_mask = unsupervised_segmentation(x_test[i])\n",
    "    unsupervised_od_outline = outline_optic_disk(x_test[i], unsupervised_mask)\n",
    "    unsupervised_oc_outline = outline_optic_cup(x_test[i], unsupervised_mask)\n",
    "    unsupervised_cdr = calculate_cup_to_disk_ratio(unsupervised_mask)\n",
    "    \n",
    "    # Supervised segmentation\n",
    "    supervised_mask = supervised_segmentation(x_test[i])\n",
    "    supervised_od_outline = outline_optic_disk(x_test[i], supervised_mask)\n",
    "    supervised_oc_outline = outline_optic_cup(x_test[i], supervised_mask)\n",
    "    supervised_cdr = calculate_cup_to_disk_ratio(supervised_mask)\n",
    "    \n",
    "   \n",
    "    # Print results\n",
    "    print(f\"Image {i+1}:\")\n",
    "    print(\"Unsupervised Segmentation - CDR:\", unsupervised_cdr)\n",
    "    print(\"Supervised Segmentation - CDR:\", supervised_cdr)\n",
    "    print()\n"
   ]
  },
  {
   "cell_type": "code",
   "execution_count": 7,
   "id": "177ab83a-7bcd-43e8-854a-5a55cb53a9dd",
   "metadata": {},
   "outputs": [],
   "source": [
    "import cv2\n",
    "import numpy as np\n",
    "import tkinter as tk\n",
    "from tkinter import filedialog\n",
    "\n",
    "# Global variables to store resized image and segmentation mask\n",
    "resize_img = None\n",
    "resize_seg = None\n",
    "# Label to display Cup-to-Disk Ratio (CDR)\n",
    "cdr_label = None\n",
    "\n",
    "# Function to outline the optic disk in the image based on segmentation mask\n",
    "def outline_optic_disk(original_image, segmentation_mask):\n",
    "    # Convert segmentation mask to uint8\n",
    "    segmentation_mask = segmentation_mask.astype(np.uint8)\n",
    "    # Find contours of the segmentation mask\n",
    "    contours, _ = cv2.findContours(segmentation_mask, cv2.RETR_EXTERNAL, cv2.CHAIN_APPROX_SIMPLE)\n",
    "    disk_outline = original_image.copy()\n",
    "\n",
    "    # Iterate over contours and draw outlines if conditions met\n",
    "    for contour in contours:\n",
    "        area = cv2.contourArea(contour)\n",
    "        if area > 50:\n",
    "            approx = cv2.approxPolyDP(contour, 0.01 * cv2.arcLength(contour, True), True)\n",
    "            if cv2.contourArea(approx) > 200:\n",
    "                cv2.drawContours(disk_outline, [approx], -1, (0, 0, 255), thickness=2)\n",
    "\n",
    "    return disk_outline\n",
    "\n",
    "# Function to outline the optic cup in the image based on segmentation mask\n",
    "def outline_optic_cup(original_image, segmentation_mask):\n",
    "    _, binary_mask = cv2.threshold(segmentation_mask, 128, 255, cv2.THRESH_BINARY)\n",
    "    contours, _ = cv2.findContours(binary_mask, cv2.RETR_EXTERNAL, cv2.CHAIN_APPROX_SIMPLE)\n",
    "    cup_outline = original_image.copy()\n",
    "\n",
    "    # Iterate over contours and draw outlines if conditions met\n",
    "    for contour in contours:\n",
    "        if cv2.contourArea(contour) > 50:\n",
    "            cv2.drawContours(cup_outline, [contour], -1, (0, 255, 255), thickness=2)\n",
    "\n",
    "    return cup_outline\n",
    "\n",
    "# Function to calculate Cup-to-Disk Ratio (CDR) from segmentation mask\n",
    "def calculate_cup_to_disk_ratio(segmentation_mask):\n",
    "    disk_area = np.sum(segmentation_mask == 128)\n",
    "    cup_area = np.sum(segmentation_mask == 255)\n",
    "    cdr = cup_area / disk_area if disk_area != 0 else float('inf')\n",
    "    return cdr\n",
    "\n",
    "# Function to load images and segmentation masks\n",
    "def load_images():\n",
    "    global resize_img, resize_seg\n",
    "    img_path = filedialog.askopenfilename(title=\"Select Image\")\n",
    "    seg_path = filedialog.askopenfilename(title=\"Select Segmentation Mask\")\n",
    "    if img_path and seg_path:  # Check if paths are not empty\n",
    "        orig_img = cv2.imread(img_path)\n",
    "        orig_seg = cv2.imread(seg_path, cv2.IMREAD_GRAYSCALE)\n",
    "        if orig_img is not None and orig_seg is not None:  # Check if images are not None\n",
    "            resize_img = cv2.resize(orig_img, (800, 600))\n",
    "            resize_seg = cv2.resize(orig_seg, (800, 600))\n",
    "        else:\n",
    "            print(\"Error: Images could not be loaded. Please check the file paths.\")\n",
    "    else:\n",
    "        print(\"Error: No file paths provided.\")\n",
    "\n",
    "# Function to visualize optic disk and cup outlines\n",
    "def visualize():\n",
    "    global resize_seg\n",
    "    disk_outline = outline_optic_disk(resize_img, resize_seg)\n",
    "    cup_outline = outline_optic_cup(resize_img, resize_seg)\n",
    "    cv2.imshow(\"Optic Disk Outline\", disk_outline)\n",
    "    cv2.imshow(\"Optic Cup Outline\", cup_outline)\n",
    "    cv2.waitKey(0)\n",
    "    cv2.destroyAllWindows()\n",
    "\n",
    "# Function to display Cup-to-Disk Ratio (CDR)\n",
    "def show_results():\n",
    "    global resize_seg, cdr_label\n",
    "    cdr_label.config(text=\"\")\n",
    "    cdr_label.update_idletasks()\n",
    "    cdr_label.config(text=\"Cup-to-disk ratio: {:.2f}\".format(calculate_cup_to_disk_ratio(resize_seg)))\n",
    "\n",
    "# Main function to create GUI\n",
    "def main():\n",
    "    global resize_img, resize_seg, cdr_label\n",
    "    root = tk.Tk()\n",
    "    root.title(\"Automated Glaucoma Detection\")\n",
    "    root.configure(bg='#F5DEB3')  # Set background color to brown\n",
    "\n",
    "    # Label for heading\n",
    "    heading = tk.Label(root, text=\"Automated Glaucoma Detection\", font=(\"Helvetica\", 16), bg='#F5DEB3')  # Set background color to brown\n",
    "    heading.pack(pady=10)\n",
    "\n",
    "    # Button to load images\n",
    "    load_button = tk.Button(root, text=\"Load Images\", command=load_images, bg='#8B4513', fg='white', font=(\"Helvetica\", 12), relief=tk.RAISED, padx=20, pady=10, bd=5)  # Set background color to brown\n",
    "    load_button.pack(pady=10)\n",
    "\n",
    "    # Button to visualize optic disk and cup outlines\n",
    "    visualize_button = tk.Button(root, text=\"Visualize\", command=visualize, bg='#8B4513', fg='white', font=(\"Helvetica\", 12), relief=tk.RAISED, padx=20, pady=10, bd=5)  # Set background color to brown\n",
    "    visualize_button.pack(pady=10)\n",
    "\n",
    "    # Button to calculate and display Cup-to-Disk Ratio (CDR)\n",
    "    calculate_button = tk.Button(root, text=\"Calculate CDR\", command=show_results, bg='#8B4513', fg='white', font=(\"Helvetica\", 12), relief=tk.RAISED, padx=20, pady=10, bd=5)  # Set background color to brown\n",
    "    calculate_button.pack(pady=10)\n",
    "\n",
    "    # Label to display Cup-to-Disk Ratio (CDR)\n",
    "    cdr_label = tk.Label(root, text=\"\", bg='#F5DEB3', font=(\"Helvetica\", 12))  # Set background color to brown\n",
    "    cdr_label.pack(pady=10)\n",
    "\n",
    "    # Spacer for layout\n",
    "    spacer = tk.Label(root, text=\"\", bg='#F5DEB3')\n",
    "    spacer.pack()\n",
    "\n",
    "    root.geometry(\"1000x550\")\n",
    "    root.mainloop()\n",
    "\n",
    "if _name_ == \"_main_\":\n",
    "    main()"
   ]
  },
  {
   "cell_type": "code",
   "execution_count": null,
   "id": "bf8c0ca0-6d8c-472b-9c1f-e689f7483c5c",
   "metadata": {},
   "outputs": [],
   "source": []
  }
 ],
 "metadata": {
  "kernelspec": {
   "display_name": "Python 3 (ipykernel)",
   "language": "python",
   "name": "python3"
  },
  "language_info": {
   "codemirror_mode": {
    "name": "ipython",
    "version": 3
   },
   "file_extension": ".py",
   "mimetype": "text/x-python",
   "name": "python",
   "nbconvert_exporter": "python",
   "pygments_lexer": "ipython3",
   "version": "3.11.7"
  }
 },
 "nbformat": 4,
 "nbformat_minor": 5
}
